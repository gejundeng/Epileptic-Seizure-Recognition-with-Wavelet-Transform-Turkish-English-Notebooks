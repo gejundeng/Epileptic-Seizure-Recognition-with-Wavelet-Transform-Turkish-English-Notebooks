{
  "nbformat": 4,
  "nbformat_minor": 0,
  "metadata": {
    "kernelspec": {
      "display_name": "Python 3",
      "language": "python",
      "name": "python3"
    },
    "language_info": {
      "codemirror_mode": {
        "name": "ipython",
        "version": 3
      },
      "file_extension": ".py",
      "mimetype": "text/x-python",
      "name": "python",
      "nbconvert_exporter": "python",
      "pygments_lexer": "ipython3",
      "version": "3.6.8"
    },
    "colab": {
      "name": "Epileptik_Nöbet_Tanıma_Sistemi.ipynb",
      "provenance": []
    }
  },
  "cells": [
    {
      "cell_type": "markdown",
      "metadata": {
        "id": "Tim4hR1U4gas",
        "colab_type": "text"
      },
      "source": [
        "#Dalgacık Dönüşümü ile Epileptik Nöbet Tanıma Sistemi\n",
        "\n",
        "####Nur Altıparmak\n",
        "\n",
        "Epileptik nöbet, çok sayıda insanın hayatını etkileyen ciddi bir hastalıktır ve beyindeki anormal elektriksel aktiviteden kaynaklanır [1]. Çoğu nöbet çok kısadır ve nadiren hayatı tehdit edecek seviyeye gelir ancak tedavi ve özel bakım için bu tarz kritik nöbetler derhal tanınmalıdır.Ayrıca Epileptik nöbet hastaları için özel tedaviler ve sürekli gözlem de gerekmektedir.Çalışmalara göre [6], erken tanı ile nöbetleri kontrol altına almak mümkündür.Bu yüzden olsa gerek ki geçmişte erken tanı koyabilmek adına epileptik nöbet tanıma sistemleri geliştirilmiştir.Bunlardan biri de EEG sinyalleri ile tanı koymadır ancak EEG sinyalleri epileptik nöbet tanıma için güçlü bir araç olsa dahi, sinyalleri ayırt etmek için görsel inceleme zaman alan ve yüksek maliyetli bir süreçtir [2].Bu nedenle, bu projede makine öğrenimi ve derin öğrenme teknikleri yardımıyla dalgacık dönüşümüne sokulmuş EEG sinyalerinden hızlı ve etkili epileptik nöbet saptaması amaçlanmıştır."
      ]
    },
    {
      "cell_type": "markdown",
      "metadata": {
        "id": "VCc-NdA94gax",
        "colab_type": "text"
      },
      "source": [
        "## İçerik\n",
        "\n",
        "[Problem](#problem)   \n",
        "[Verinin Anlaşılması](#data_understanding)   \n",
        "[Verilerin Hazırlanması](#data_preparation)   \n",
        "[Modelleme](#modeling)   \n",
        "[Değerlendirme](#evaluation)   \n",
        "[Referanslar](#references)   \n"
      ]
    },
    {
      "cell_type": "markdown",
      "metadata": {
        "id": "0tY65CR24gbC",
        "colab_type": "text"
      },
      "source": [
        "## Problem <a class=\"anchor\" id=\"problem\"></a>"
      ]
    },
    {
      "cell_type": "markdown",
      "metadata": {
        "id": "i7bztT-O4gbD",
        "colab_type": "text"
      },
      "source": [
        "Epilepsi, tekrarlayan epileptik nöbetlerle karakterize bir nörolojik bozukluktur [3].Bu nöbetler şiddetli titreme ataklarına neden olabilir, bu nedenle nöbetler esnasında hastalar kendisine ciddi fiziksel zarar verebilmektedir.Buna rağmen epilepsi tedavi edilebilir bir hastalıktır.Erken tanı ve ilaç tedavisi ile vakaların %70'i tedavi edilebilmektedir[4] [5]. Bu nedenle erken tanı koymak için zaman içinde birçok epilepsi tanı yöntemi geliştirilmiştir. Bunlardan biri de EEG sinyalleri ile tanı koymadır.Ancak EEG'leri ayırt etmek için görsel inceleme süreci zaman alıcı ve yüksek maliyetli bir süreçtir.Bu nedenle bu projede makine öğrenimi ve derin öğrenme teknikleri yardımıyla EEG sinyalerinden hızlı ve etkili epileptik nöbet saptaması amaçlanmıştır."
      ]
    },
    {
      "cell_type": "markdown",
      "metadata": {
        "id": "fxYK0JSa4gbO",
        "colab_type": "text"
      },
      "source": [
        "## Verinin Anlaşılması<a class=\"anchor\" id=\"data_understanding\"></a>"
      ]
    },
    {
      "cell_type": "markdown",
      "metadata": {
        "id": "FBONvz9i4gbS",
        "colab_type": "text"
      },
      "source": [
        "Bu proje için, 5 farklı hedef sınıf, 179 nitelik ve 11500 örnek içeren Bonn Üniversitesi'nin yeniden yapılandırılmış EEG zaman serisi veri kümesini kullanacağım. 2, 3, 4 ve 5 sınıflarında ki denekler epileptik nöbet geçirmezken sınıf 1'deki denekler epileptik nöbet geçiren deneklerdir.\n",
        "\n",
        "Aşağıda veri seti hakkında daha fazla detay verilmiştir.$$$$\n",
        "\n",
        "![alt text](https://drive.google.com/uc?id=1N8VQKY9UjAdy0AjhRS7bDts3xcHILZR4)\n",
        "\n",
        "![alt text](https://drive.google.com/uc?id=1CrfBl5fwNpWIlktNriTPDknezzHkkXTe)\n",
        "\n",
        "Kullandığım veri setine şu adresten ulaşabilirsiniz\n",
        "https://archive.ics.uci.edu/ml/datasets/Epileptic+Seizure+Recognition"
      ]
    },
    {
      "cell_type": "code",
      "metadata": {
        "colab_type": "code",
        "outputId": "ab07cc78-6033-463e-ff99-233b3e139edd",
        "id": "3inzkh-RJC1p",
        "colab": {
          "resources": {
            "http://localhost:8080/nbextensions/google.colab/files.js": {
              "data": "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",
              "ok": true,
              "headers": [
                [
                  "content-type",
                  "application/javascript"
                ]
              ],
              "status": 200,
              "status_text": ""
            }
          },
          "base_uri": "https://localhost:8080/",
          "height": 74
        }
      },
      "source": [
        "#datayı import ediyorum\n",
        "from google.colab import files\n",
        "uploaded = files.upload() #data.csv dosyasını seçin"
      ],
      "execution_count": 0,
      "outputs": [
        {
          "output_type": "display_data",
          "data": {
            "text/html": [
              "\n",
              "     <input type=\"file\" id=\"files-ab99b4d1-1545-4ed8-adee-f937fb0c66b5\" name=\"files[]\" multiple disabled />\n",
              "     <output id=\"result-ab99b4d1-1545-4ed8-adee-f937fb0c66b5\">\n",
              "      Upload widget is only available when the cell has been executed in the\n",
              "      current browser session. Please rerun this cell to enable.\n",
              "      </output>\n",
              "      <script src=\"/nbextensions/google.colab/files.js\"></script> "
            ],
            "text/plain": [
              "<IPython.core.display.HTML object>"
            ]
          },
          "metadata": {
            "tags": []
          }
        },
        {
          "output_type": "stream",
          "text": [
            "Saving data.csv to data.csv\n"
          ],
          "name": "stdout"
        }
      ]
    },
    {
      "cell_type": "code",
      "metadata": {
        "id": "oj6BcfK5J4oY",
        "colab_type": "code",
        "outputId": "94a62ecf-cba8-4f38-bda1-c94432ec64b3",
        "colab": {
          "base_uri": "https://localhost:8080/",
          "height": 261
        }
      },
      "source": [
        "import pandas as pd\n",
        "import numpy as np\n",
        "df=pd.read_csv(\"data.csv\")\n",
        "df.head()"
      ],
      "execution_count": 0,
      "outputs": [
        {
          "output_type": "execute_result",
          "data": {
            "text/html": [
              "<div>\n",
              "<style scoped>\n",
              "    .dataframe tbody tr th:only-of-type {\n",
              "        vertical-align: middle;\n",
              "    }\n",
              "\n",
              "    .dataframe tbody tr th {\n",
              "        vertical-align: top;\n",
              "    }\n",
              "\n",
              "    .dataframe thead th {\n",
              "        text-align: right;\n",
              "    }\n",
              "</style>\n",
              "<table border=\"1\" class=\"dataframe\">\n",
              "  <thead>\n",
              "    <tr style=\"text-align: right;\">\n",
              "      <th></th>\n",
              "      <th>Unnamed: 0</th>\n",
              "      <th>X1</th>\n",
              "      <th>X2</th>\n",
              "      <th>X3</th>\n",
              "      <th>X4</th>\n",
              "      <th>X5</th>\n",
              "      <th>X6</th>\n",
              "      <th>X7</th>\n",
              "      <th>X8</th>\n",
              "      <th>X9</th>\n",
              "      <th>X10</th>\n",
              "      <th>X11</th>\n",
              "      <th>X12</th>\n",
              "      <th>X13</th>\n",
              "      <th>X14</th>\n",
              "      <th>X15</th>\n",
              "      <th>X16</th>\n",
              "      <th>X17</th>\n",
              "      <th>X18</th>\n",
              "      <th>X19</th>\n",
              "      <th>X20</th>\n",
              "      <th>X21</th>\n",
              "      <th>X22</th>\n",
              "      <th>X23</th>\n",
              "      <th>X24</th>\n",
              "      <th>X25</th>\n",
              "      <th>X26</th>\n",
              "      <th>X27</th>\n",
              "      <th>X28</th>\n",
              "      <th>X29</th>\n",
              "      <th>X30</th>\n",
              "      <th>X31</th>\n",
              "      <th>X32</th>\n",
              "      <th>X33</th>\n",
              "      <th>X34</th>\n",
              "      <th>X35</th>\n",
              "      <th>X36</th>\n",
              "      <th>X37</th>\n",
              "      <th>X38</th>\n",
              "      <th>X39</th>\n",
              "      <th>...</th>\n",
              "      <th>X140</th>\n",
              "      <th>X141</th>\n",
              "      <th>X142</th>\n",
              "      <th>X143</th>\n",
              "      <th>X144</th>\n",
              "      <th>X145</th>\n",
              "      <th>X146</th>\n",
              "      <th>X147</th>\n",
              "      <th>X148</th>\n",
              "      <th>X149</th>\n",
              "      <th>X150</th>\n",
              "      <th>X151</th>\n",
              "      <th>X152</th>\n",
              "      <th>X153</th>\n",
              "      <th>X154</th>\n",
              "      <th>X155</th>\n",
              "      <th>X156</th>\n",
              "      <th>X157</th>\n",
              "      <th>X158</th>\n",
              "      <th>X159</th>\n",
              "      <th>X160</th>\n",
              "      <th>X161</th>\n",
              "      <th>X162</th>\n",
              "      <th>X163</th>\n",
              "      <th>X164</th>\n",
              "      <th>X165</th>\n",
              "      <th>X166</th>\n",
              "      <th>X167</th>\n",
              "      <th>X168</th>\n",
              "      <th>X169</th>\n",
              "      <th>X170</th>\n",
              "      <th>X171</th>\n",
              "      <th>X172</th>\n",
              "      <th>X173</th>\n",
              "      <th>X174</th>\n",
              "      <th>X175</th>\n",
              "      <th>X176</th>\n",
              "      <th>X177</th>\n",
              "      <th>X178</th>\n",
              "      <th>y</th>\n",
              "    </tr>\n",
              "  </thead>\n",
              "  <tbody>\n",
              "    <tr>\n",
              "      <th>0</th>\n",
              "      <td>X21.V1.791</td>\n",
              "      <td>135</td>\n",
              "      <td>190</td>\n",
              "      <td>229</td>\n",
              "      <td>223</td>\n",
              "      <td>192</td>\n",
              "      <td>125</td>\n",
              "      <td>55</td>\n",
              "      <td>-9</td>\n",
              "      <td>-33</td>\n",
              "      <td>-38</td>\n",
              "      <td>-10</td>\n",
              "      <td>35</td>\n",
              "      <td>64</td>\n",
              "      <td>113</td>\n",
              "      <td>152</td>\n",
              "      <td>164</td>\n",
              "      <td>127</td>\n",
              "      <td>50</td>\n",
              "      <td>-47</td>\n",
              "      <td>-121</td>\n",
              "      <td>-138</td>\n",
              "      <td>-125</td>\n",
              "      <td>-101</td>\n",
              "      <td>-50</td>\n",
              "      <td>11</td>\n",
              "      <td>39</td>\n",
              "      <td>24</td>\n",
              "      <td>48</td>\n",
              "      <td>64</td>\n",
              "      <td>46</td>\n",
              "      <td>13</td>\n",
              "      <td>-19</td>\n",
              "      <td>-61</td>\n",
              "      <td>-96</td>\n",
              "      <td>-130</td>\n",
              "      <td>-132</td>\n",
              "      <td>-116</td>\n",
              "      <td>-115</td>\n",
              "      <td>-71</td>\n",
              "      <td>...</td>\n",
              "      <td>54</td>\n",
              "      <td>90</td>\n",
              "      <td>111</td>\n",
              "      <td>107</td>\n",
              "      <td>64</td>\n",
              "      <td>32</td>\n",
              "      <td>18</td>\n",
              "      <td>-25</td>\n",
              "      <td>-69</td>\n",
              "      <td>-65</td>\n",
              "      <td>-44</td>\n",
              "      <td>-33</td>\n",
              "      <td>-57</td>\n",
              "      <td>-88</td>\n",
              "      <td>-114</td>\n",
              "      <td>-130</td>\n",
              "      <td>-114</td>\n",
              "      <td>-83</td>\n",
              "      <td>-53</td>\n",
              "      <td>-79</td>\n",
              "      <td>-72</td>\n",
              "      <td>-85</td>\n",
              "      <td>-109</td>\n",
              "      <td>-98</td>\n",
              "      <td>-72</td>\n",
              "      <td>-65</td>\n",
              "      <td>-63</td>\n",
              "      <td>-11</td>\n",
              "      <td>10</td>\n",
              "      <td>8</td>\n",
              "      <td>-17</td>\n",
              "      <td>-15</td>\n",
              "      <td>-31</td>\n",
              "      <td>-77</td>\n",
              "      <td>-103</td>\n",
              "      <td>-127</td>\n",
              "      <td>-116</td>\n",
              "      <td>-83</td>\n",
              "      <td>-51</td>\n",
              "      <td>4</td>\n",
              "    </tr>\n",
              "    <tr>\n",
              "      <th>1</th>\n",
              "      <td>X15.V1.924</td>\n",
              "      <td>386</td>\n",
              "      <td>382</td>\n",
              "      <td>356</td>\n",
              "      <td>331</td>\n",
              "      <td>320</td>\n",
              "      <td>315</td>\n",
              "      <td>307</td>\n",
              "      <td>272</td>\n",
              "      <td>244</td>\n",
              "      <td>232</td>\n",
              "      <td>237</td>\n",
              "      <td>258</td>\n",
              "      <td>212</td>\n",
              "      <td>2</td>\n",
              "      <td>-267</td>\n",
              "      <td>-605</td>\n",
              "      <td>-850</td>\n",
              "      <td>-1001</td>\n",
              "      <td>-1109</td>\n",
              "      <td>-1090</td>\n",
              "      <td>-967</td>\n",
              "      <td>-746</td>\n",
              "      <td>-464</td>\n",
              "      <td>-152</td>\n",
              "      <td>118</td>\n",
              "      <td>318</td>\n",
              "      <td>427</td>\n",
              "      <td>473</td>\n",
              "      <td>485</td>\n",
              "      <td>447</td>\n",
              "      <td>397</td>\n",
              "      <td>339</td>\n",
              "      <td>312</td>\n",
              "      <td>314</td>\n",
              "      <td>326</td>\n",
              "      <td>335</td>\n",
              "      <td>332</td>\n",
              "      <td>324</td>\n",
              "      <td>310</td>\n",
              "      <td>...</td>\n",
              "      <td>27</td>\n",
              "      <td>146</td>\n",
              "      <td>229</td>\n",
              "      <td>269</td>\n",
              "      <td>297</td>\n",
              "      <td>307</td>\n",
              "      <td>303</td>\n",
              "      <td>305</td>\n",
              "      <td>306</td>\n",
              "      <td>307</td>\n",
              "      <td>280</td>\n",
              "      <td>231</td>\n",
              "      <td>159</td>\n",
              "      <td>85</td>\n",
              "      <td>51</td>\n",
              "      <td>43</td>\n",
              "      <td>62</td>\n",
              "      <td>63</td>\n",
              "      <td>63</td>\n",
              "      <td>69</td>\n",
              "      <td>89</td>\n",
              "      <td>123</td>\n",
              "      <td>136</td>\n",
              "      <td>127</td>\n",
              "      <td>102</td>\n",
              "      <td>95</td>\n",
              "      <td>105</td>\n",
              "      <td>131</td>\n",
              "      <td>163</td>\n",
              "      <td>168</td>\n",
              "      <td>164</td>\n",
              "      <td>150</td>\n",
              "      <td>146</td>\n",
              "      <td>152</td>\n",
              "      <td>157</td>\n",
              "      <td>156</td>\n",
              "      <td>154</td>\n",
              "      <td>143</td>\n",
              "      <td>129</td>\n",
              "      <td>1</td>\n",
              "    </tr>\n",
              "    <tr>\n",
              "      <th>2</th>\n",
              "      <td>X8.V1.1</td>\n",
              "      <td>-32</td>\n",
              "      <td>-39</td>\n",
              "      <td>-47</td>\n",
              "      <td>-37</td>\n",
              "      <td>-32</td>\n",
              "      <td>-36</td>\n",
              "      <td>-57</td>\n",
              "      <td>-73</td>\n",
              "      <td>-85</td>\n",
              "      <td>-94</td>\n",
              "      <td>-99</td>\n",
              "      <td>-94</td>\n",
              "      <td>-96</td>\n",
              "      <td>-104</td>\n",
              "      <td>-103</td>\n",
              "      <td>-92</td>\n",
              "      <td>-75</td>\n",
              "      <td>-69</td>\n",
              "      <td>-69</td>\n",
              "      <td>-53</td>\n",
              "      <td>-37</td>\n",
              "      <td>-14</td>\n",
              "      <td>-10</td>\n",
              "      <td>-39</td>\n",
              "      <td>-78</td>\n",
              "      <td>-102</td>\n",
              "      <td>-98</td>\n",
              "      <td>-80</td>\n",
              "      <td>-54</td>\n",
              "      <td>-40</td>\n",
              "      <td>-35</td>\n",
              "      <td>-39</td>\n",
              "      <td>-32</td>\n",
              "      <td>-13</td>\n",
              "      <td>7</td>\n",
              "      <td>34</td>\n",
              "      <td>41</td>\n",
              "      <td>33</td>\n",
              "      <td>6</td>\n",
              "      <td>...</td>\n",
              "      <td>-82</td>\n",
              "      <td>-107</td>\n",
              "      <td>-126</td>\n",
              "      <td>-124</td>\n",
              "      <td>-108</td>\n",
              "      <td>-84</td>\n",
              "      <td>-68</td>\n",
              "      <td>-61</td>\n",
              "      <td>-56</td>\n",
              "      <td>-63</td>\n",
              "      <td>-62</td>\n",
              "      <td>-33</td>\n",
              "      <td>1</td>\n",
              "      <td>28</td>\n",
              "      <td>45</td>\n",
              "      <td>37</td>\n",
              "      <td>48</td>\n",
              "      <td>62</td>\n",
              "      <td>80</td>\n",
              "      <td>66</td>\n",
              "      <td>23</td>\n",
              "      <td>-11</td>\n",
              "      <td>-39</td>\n",
              "      <td>-44</td>\n",
              "      <td>-42</td>\n",
              "      <td>-45</td>\n",
              "      <td>-48</td>\n",
              "      <td>-42</td>\n",
              "      <td>-6</td>\n",
              "      <td>29</td>\n",
              "      <td>57</td>\n",
              "      <td>64</td>\n",
              "      <td>48</td>\n",
              "      <td>19</td>\n",
              "      <td>-12</td>\n",
              "      <td>-30</td>\n",
              "      <td>-35</td>\n",
              "      <td>-35</td>\n",
              "      <td>-36</td>\n",
              "      <td>5</td>\n",
              "    </tr>\n",
              "    <tr>\n",
              "      <th>3</th>\n",
              "      <td>X16.V1.60</td>\n",
              "      <td>-105</td>\n",
              "      <td>-101</td>\n",
              "      <td>-96</td>\n",
              "      <td>-92</td>\n",
              "      <td>-89</td>\n",
              "      <td>-95</td>\n",
              "      <td>-102</td>\n",
              "      <td>-100</td>\n",
              "      <td>-87</td>\n",
              "      <td>-79</td>\n",
              "      <td>-72</td>\n",
              "      <td>-68</td>\n",
              "      <td>-74</td>\n",
              "      <td>-80</td>\n",
              "      <td>-83</td>\n",
              "      <td>-73</td>\n",
              "      <td>-68</td>\n",
              "      <td>-61</td>\n",
              "      <td>-58</td>\n",
              "      <td>-59</td>\n",
              "      <td>-64</td>\n",
              "      <td>-79</td>\n",
              "      <td>-84</td>\n",
              "      <td>-97</td>\n",
              "      <td>-94</td>\n",
              "      <td>-84</td>\n",
              "      <td>-77</td>\n",
              "      <td>-75</td>\n",
              "      <td>-72</td>\n",
              "      <td>-68</td>\n",
              "      <td>-76</td>\n",
              "      <td>-76</td>\n",
              "      <td>-72</td>\n",
              "      <td>-67</td>\n",
              "      <td>-69</td>\n",
              "      <td>-69</td>\n",
              "      <td>-69</td>\n",
              "      <td>-67</td>\n",
              "      <td>-68</td>\n",
              "      <td>...</td>\n",
              "      <td>-69</td>\n",
              "      <td>-66</td>\n",
              "      <td>-74</td>\n",
              "      <td>-69</td>\n",
              "      <td>-61</td>\n",
              "      <td>-51</td>\n",
              "      <td>-45</td>\n",
              "      <td>-45</td>\n",
              "      <td>-49</td>\n",
              "      <td>-58</td>\n",
              "      <td>-64</td>\n",
              "      <td>-78</td>\n",
              "      <td>-80</td>\n",
              "      <td>-90</td>\n",
              "      <td>-87</td>\n",
              "      <td>-83</td>\n",
              "      <td>-78</td>\n",
              "      <td>-64</td>\n",
              "      <td>-38</td>\n",
              "      <td>-22</td>\n",
              "      <td>-29</td>\n",
              "      <td>-42</td>\n",
              "      <td>-51</td>\n",
              "      <td>-68</td>\n",
              "      <td>-71</td>\n",
              "      <td>-69</td>\n",
              "      <td>-69</td>\n",
              "      <td>-74</td>\n",
              "      <td>-74</td>\n",
              "      <td>-80</td>\n",
              "      <td>-82</td>\n",
              "      <td>-81</td>\n",
              "      <td>-80</td>\n",
              "      <td>-77</td>\n",
              "      <td>-85</td>\n",
              "      <td>-77</td>\n",
              "      <td>-72</td>\n",
              "      <td>-69</td>\n",
              "      <td>-65</td>\n",
              "      <td>5</td>\n",
              "    </tr>\n",
              "    <tr>\n",
              "      <th>4</th>\n",
              "      <td>X20.V1.54</td>\n",
              "      <td>-9</td>\n",
              "      <td>-65</td>\n",
              "      <td>-98</td>\n",
              "      <td>-102</td>\n",
              "      <td>-78</td>\n",
              "      <td>-48</td>\n",
              "      <td>-16</td>\n",
              "      <td>0</td>\n",
              "      <td>-21</td>\n",
              "      <td>-59</td>\n",
              "      <td>-90</td>\n",
              "      <td>-103</td>\n",
              "      <td>-84</td>\n",
              "      <td>-43</td>\n",
              "      <td>-9</td>\n",
              "      <td>3</td>\n",
              "      <td>-21</td>\n",
              "      <td>-60</td>\n",
              "      <td>-96</td>\n",
              "      <td>-103</td>\n",
              "      <td>-75</td>\n",
              "      <td>-29</td>\n",
              "      <td>14</td>\n",
              "      <td>55</td>\n",
              "      <td>78</td>\n",
              "      <td>73</td>\n",
              "      <td>28</td>\n",
              "      <td>-13</td>\n",
              "      <td>-43</td>\n",
              "      <td>-68</td>\n",
              "      <td>-78</td>\n",
              "      <td>-75</td>\n",
              "      <td>-55</td>\n",
              "      <td>-41</td>\n",
              "      <td>-19</td>\n",
              "      <td>-20</td>\n",
              "      <td>-29</td>\n",
              "      <td>-36</td>\n",
              "      <td>-20</td>\n",
              "      <td>...</td>\n",
              "      <td>38</td>\n",
              "      <td>26</td>\n",
              "      <td>10</td>\n",
              "      <td>-4</td>\n",
              "      <td>-13</td>\n",
              "      <td>-8</td>\n",
              "      <td>0</td>\n",
              "      <td>10</td>\n",
              "      <td>19</td>\n",
              "      <td>29</td>\n",
              "      <td>57</td>\n",
              "      <td>63</td>\n",
              "      <td>45</td>\n",
              "      <td>7</td>\n",
              "      <td>-13</td>\n",
              "      <td>-23</td>\n",
              "      <td>-9</td>\n",
              "      <td>9</td>\n",
              "      <td>11</td>\n",
              "      <td>3</td>\n",
              "      <td>-1</td>\n",
              "      <td>-2</td>\n",
              "      <td>4</td>\n",
              "      <td>18</td>\n",
              "      <td>27</td>\n",
              "      <td>27</td>\n",
              "      <td>14</td>\n",
              "      <td>15</td>\n",
              "      <td>11</td>\n",
              "      <td>10</td>\n",
              "      <td>4</td>\n",
              "      <td>2</td>\n",
              "      <td>-12</td>\n",
              "      <td>-32</td>\n",
              "      <td>-41</td>\n",
              "      <td>-65</td>\n",
              "      <td>-83</td>\n",
              "      <td>-89</td>\n",
              "      <td>-73</td>\n",
              "      <td>5</td>\n",
              "    </tr>\n",
              "  </tbody>\n",
              "</table>\n",
              "<p>5 rows × 180 columns</p>\n",
              "</div>"
            ],
            "text/plain": [
              "   Unnamed: 0   X1   X2   X3   X4   X5  ...  X174  X175  X176  X177  X178  y\n",
              "0  X21.V1.791  135  190  229  223  192  ...  -103  -127  -116   -83   -51  4\n",
              "1  X15.V1.924  386  382  356  331  320  ...   157   156   154   143   129  1\n",
              "2     X8.V1.1  -32  -39  -47  -37  -32  ...   -12   -30   -35   -35   -36  5\n",
              "3   X16.V1.60 -105 -101  -96  -92  -89  ...   -85   -77   -72   -69   -65  5\n",
              "4   X20.V1.54   -9  -65  -98 -102  -78  ...   -41   -65   -83   -89   -73  5\n",
              "\n",
              "[5 rows x 180 columns]"
            ]
          },
          "metadata": {
            "tags": []
          },
          "execution_count": 3
        }
      ]
    },
    {
      "cell_type": "code",
      "metadata": {
        "id": "Kxdq57KCJ7y9",
        "colab_type": "code",
        "outputId": "185e414c-7055-476c-d227-cb8524489ea6",
        "colab": {
          "base_uri": "https://localhost:8080/",
          "height": 252
        }
      },
      "source": [
        "print(\"Genel satır ve sütün bilgileri \")\n",
        "df.info()\n",
        "print(\"\\nHedef Değişken Sınıf Sayıları\\n\",df[\"y\"].value_counts())"
      ],
      "execution_count": 0,
      "outputs": [
        {
          "output_type": "stream",
          "text": [
            "Genel satır ve sütün bilgileri \n",
            "<class 'pandas.core.frame.DataFrame'>\n",
            "RangeIndex: 11500 entries, 0 to 11499\n",
            "Columns: 180 entries, Unnamed: 0 to y\n",
            "dtypes: int64(179), object(1)\n",
            "memory usage: 15.8+ MB\n",
            "\n",
            "Hedef Değişken Sınıf Sayıları\n",
            " 5    2300\n",
            "4    2300\n",
            "3    2300\n",
            "2    2300\n",
            "1    2300\n",
            "Name: y, dtype: int64\n"
          ],
          "name": "stdout"
        }
      ]
    },
    {
      "cell_type": "code",
      "metadata": {
        "id": "UNX_EBiTKPmO",
        "colab_type": "code",
        "outputId": "7a0e5061-42f6-46ea-c4d2-2bbd2943460b",
        "colab": {
          "base_uri": "https://localhost:8080/",
          "height": 265
        }
      },
      "source": [
        "import matplotlib.pyplot as plt\n",
        "def hist(df,plt):\n",
        "  plt.hist(df[df[\"y\"]==1][\"y\"],label=\"epileptik nöbet\")\n",
        "  plt.hist(df[df[\"y\"]!=1][\"y\"],label=\"nöbet değil\")\n",
        "  plt.legend(loc='lower right')\n",
        "  plt.show()\n",
        "\n",
        "hist(df,plt)"
      ],
      "execution_count": 0,
      "outputs": [
        {
          "output_type": "display_data",
          "data": {
            "image/png": "[encoded data removed]",
            "text/plain": [
              "<Figure size 432x288 with 1 Axes>"
            ]
          },
          "metadata": {
            "tags": [],
            "needs_background": "light"
          }
        }
      ]
    },
    {
      "cell_type": "markdown",
      "metadata": {
        "id": "cldoTh_XO5O2",
        "colab_type": "text"
      },
      "source": [
        "Tüm sınıflardan eşit miktarda örnek var ve veri dengeli görünüyor ancak bu projede sadece deneğin nöbet geçirip geçirmediği ile ilgileniyoruz.Bu yüzden ilerleyen aşamalarda 1'den farklı sınıfların hepsini 0'a çevirip projeyi binary sınıflandırma(hedef değişkenin 2 farklı sınıftan oluşması) problemine çevirmiş olacağım.Bu durumda da veri seti oldukça dengesiz bir hale gelicek."
      ]
    },
    {
      "cell_type": "markdown",
      "metadata": {
        "id": "OnUSzjxW4gbW",
        "colab_type": "text"
      },
      "source": [
        "## Verilerin Hazırlanması <a class=\"anchor\" id=\"data_preparation\"></a>"
      ]
    },
    {
      "cell_type": "markdown",
      "metadata": {
        "id": "fxfNvjTy4gbb",
        "colab_type": "text"
      },
      "source": [
        "Veri hazırlama sürecinde, ilk olarak, gereksiz sütunları temizledim,hedef değişkenini ikili sınıflara (nöbet olması durumu için 1, nöbet olmaması durumu için 0) dönüştürdüm. Daha sonra Hurst üssü ve Ayrık dalgacık dönüşümü adı verilen bazı matematiksel dönüşümlerle yeni değişkenler oluşturdum (merak etmeyin, tüm bu dönüşümlerin detaylarını açıklayacağım.).Daha sonra dengesiz veriyi daha dengeli hale getirebilmek için yeniden yapılandırdım ve veri setini normalize ettim.Son olarak Anova test ve Random forest yardımı ile özellik seçimi yapıp,doğruluk oranlarını iyileştirip iyileştirmediğini inceledim."
      ]
    },
    {
      "cell_type": "markdown",
      "metadata": {
        "id": "yeXRC5eL1xbs",
        "colab_type": "text"
      },
      "source": [
        "######**Veri temizliği ve hedef değişken dönüşümü**"
      ]
    },
    {
      "cell_type": "code",
      "metadata": {
        "id": "0BY9b8Ke4gbc",
        "colab_type": "code",
        "outputId": "2fedad07-1857-4d0e-85f0-48ebac49a19c",
        "colab": {
          "base_uri": "https://localhost:8080/",
          "height": 172
        }
      },
      "source": [
        "df.head(2) #verimize çabuk bir bakış atalım, x1 ... x178 sütunları, zaman serisi verimizin (EEG Sinyalleri) bir parçasıdır \n",
        "#ancak Unnamed: 0 sütununun gereksiz olup olmadığının incelenmesi gerekir."
      ],
      "execution_count": 0,
      "outputs": [
        {
          "output_type": "execute_result",
          "data": {
            "text/html": [
              "<div>\n",
              "<style scoped>\n",
              "    .dataframe tbody tr th:only-of-type {\n",
              "        vertical-align: middle;\n",
              "    }\n",
              "\n",
              "    .dataframe tbody tr th {\n",
              "        vertical-align: top;\n",
              "    }\n",
              "\n",
              "    .dataframe thead th {\n",
              "        text-align: right;\n",
              "    }\n",
              "</style>\n",
              "<table border=\"1\" class=\"dataframe\">\n",
              "  <thead>\n",
              "    <tr style=\"text-align: right;\">\n",
              "      <th></th>\n",
              "      <th>Unnamed: 0</th>\n",
              "      <th>X1</th>\n",
              "      <th>X2</th>\n",
              "      <th>X3</th>\n",
              "      <th>X4</th>\n",
              "      <th>X5</th>\n",
              "      <th>X6</th>\n",
              "      <th>X7</th>\n",
              "      <th>X8</th>\n",
              "      <th>X9</th>\n",
              "      <th>X10</th>\n",
              "      <th>X11</th>\n",
              "      <th>X12</th>\n",
              "      <th>X13</th>\n",
              "      <th>X14</th>\n",
              "      <th>X15</th>\n",
              "      <th>X16</th>\n",
              "      <th>X17</th>\n",
              "      <th>X18</th>\n",
              "      <th>X19</th>\n",
              "      <th>X20</th>\n",
              "      <th>X21</th>\n",
              "      <th>X22</th>\n",
              "      <th>X23</th>\n",
              "      <th>X24</th>\n",
              "      <th>X25</th>\n",
              "      <th>X26</th>\n",
              "      <th>X27</th>\n",
              "      <th>X28</th>\n",
              "      <th>X29</th>\n",
              "      <th>X30</th>\n",
              "      <th>X31</th>\n",
              "      <th>X32</th>\n",
              "      <th>X33</th>\n",
              "      <th>X34</th>\n",
              "      <th>X35</th>\n",
              "      <th>X36</th>\n",
              "      <th>X37</th>\n",
              "      <th>X38</th>\n",
              "      <th>X39</th>\n",
              "      <th>...</th>\n",
              "      <th>X140</th>\n",
              "      <th>X141</th>\n",
              "      <th>X142</th>\n",
              "      <th>X143</th>\n",
              "      <th>X144</th>\n",
              "      <th>X145</th>\n",
              "      <th>X146</th>\n",
              "      <th>X147</th>\n",
              "      <th>X148</th>\n",
              "      <th>X149</th>\n",
              "      <th>X150</th>\n",
              "      <th>X151</th>\n",
              "      <th>X152</th>\n",
              "      <th>X153</th>\n",
              "      <th>X154</th>\n",
              "      <th>X155</th>\n",
              "      <th>X156</th>\n",
              "      <th>X157</th>\n",
              "      <th>X158</th>\n",
              "      <th>X159</th>\n",
              "      <th>X160</th>\n",
              "      <th>X161</th>\n",
              "      <th>X162</th>\n",
              "      <th>X163</th>\n",
              "      <th>X164</th>\n",
              "      <th>X165</th>\n",
              "      <th>X166</th>\n",
              "      <th>X167</th>\n",
              "      <th>X168</th>\n",
              "      <th>X169</th>\n",
              "      <th>X170</th>\n",
              "      <th>X171</th>\n",
              "      <th>X172</th>\n",
              "      <th>X173</th>\n",
              "      <th>X174</th>\n",
              "      <th>X175</th>\n",
              "      <th>X176</th>\n",
              "      <th>X177</th>\n",
              "      <th>X178</th>\n",
              "      <th>y</th>\n",
              "    </tr>\n",
              "  </thead>\n",
              "  <tbody>\n",
              "    <tr>\n",
              "      <th>0</th>\n",
              "      <td>X21.V1.791</td>\n",
              "      <td>135</td>\n",
              "      <td>190</td>\n",
              "      <td>229</td>\n",
              "      <td>223</td>\n",
              "      <td>192</td>\n",
              "      <td>125</td>\n",
              "      <td>55</td>\n",
              "      <td>-9</td>\n",
              "      <td>-33</td>\n",
              "      <td>-38</td>\n",
              "      <td>-10</td>\n",
              "      <td>35</td>\n",
              "      <td>64</td>\n",
              "      <td>113</td>\n",
              "      <td>152</td>\n",
              "      <td>164</td>\n",
              "      <td>127</td>\n",
              "      <td>50</td>\n",
              "      <td>-47</td>\n",
              "      <td>-121</td>\n",
              "      <td>-138</td>\n",
              "      <td>-125</td>\n",
              "      <td>-101</td>\n",
              "      <td>-50</td>\n",
              "      <td>11</td>\n",
              "      <td>39</td>\n",
              "      <td>24</td>\n",
              "      <td>48</td>\n",
              "      <td>64</td>\n",
              "      <td>46</td>\n",
              "      <td>13</td>\n",
              "      <td>-19</td>\n",
              "      <td>-61</td>\n",
              "      <td>-96</td>\n",
              "      <td>-130</td>\n",
              "      <td>-132</td>\n",
              "      <td>-116</td>\n",
              "      <td>-115</td>\n",
              "      <td>-71</td>\n",
              "      <td>...</td>\n",
              "      <td>54</td>\n",
              "      <td>90</td>\n",
              "      <td>111</td>\n",
              "      <td>107</td>\n",
              "      <td>64</td>\n",
              "      <td>32</td>\n",
              "      <td>18</td>\n",
              "      <td>-25</td>\n",
              "      <td>-69</td>\n",
              "      <td>-65</td>\n",
              "      <td>-44</td>\n",
              "      <td>-33</td>\n",
              "      <td>-57</td>\n",
              "      <td>-88</td>\n",
              "      <td>-114</td>\n",
              "      <td>-130</td>\n",
              "      <td>-114</td>\n",
              "      <td>-83</td>\n",
              "      <td>-53</td>\n",
              "      <td>-79</td>\n",
              "      <td>-72</td>\n",
              "      <td>-85</td>\n",
              "      <td>-109</td>\n",
              "      <td>-98</td>\n",
              "      <td>-72</td>\n",
              "      <td>-65</td>\n",
              "      <td>-63</td>\n",
              "      <td>-11</td>\n",
              "      <td>10</td>\n",
              "      <td>8</td>\n",
              "      <td>-17</td>\n",
              "      <td>-15</td>\n",
              "      <td>-31</td>\n",
              "      <td>-77</td>\n",
              "      <td>-103</td>\n",
              "      <td>-127</td>\n",
              "      <td>-116</td>\n",
              "      <td>-83</td>\n",
              "      <td>-51</td>\n",
              "      <td>4</td>\n",
              "    </tr>\n",
              "    <tr>\n",
              "      <th>1</th>\n",
              "      <td>X15.V1.924</td>\n",
              "      <td>386</td>\n",
              "      <td>382</td>\n",
              "      <td>356</td>\n",
              "      <td>331</td>\n",
              "      <td>320</td>\n",
              "      <td>315</td>\n",
              "      <td>307</td>\n",
              "      <td>272</td>\n",
              "      <td>244</td>\n",
              "      <td>232</td>\n",
              "      <td>237</td>\n",
              "      <td>258</td>\n",
              "      <td>212</td>\n",
              "      <td>2</td>\n",
              "      <td>-267</td>\n",
              "      <td>-605</td>\n",
              "      <td>-850</td>\n",
              "      <td>-1001</td>\n",
              "      <td>-1109</td>\n",
              "      <td>-1090</td>\n",
              "      <td>-967</td>\n",
              "      <td>-746</td>\n",
              "      <td>-464</td>\n",
              "      <td>-152</td>\n",
              "      <td>118</td>\n",
              "      <td>318</td>\n",
              "      <td>427</td>\n",
              "      <td>473</td>\n",
              "      <td>485</td>\n",
              "      <td>447</td>\n",
              "      <td>397</td>\n",
              "      <td>339</td>\n",
              "      <td>312</td>\n",
              "      <td>314</td>\n",
              "      <td>326</td>\n",
              "      <td>335</td>\n",
              "      <td>332</td>\n",
              "      <td>324</td>\n",
              "      <td>310</td>\n",
              "      <td>...</td>\n",
              "      <td>27</td>\n",
              "      <td>146</td>\n",
              "      <td>229</td>\n",
              "      <td>269</td>\n",
              "      <td>297</td>\n",
              "      <td>307</td>\n",
              "      <td>303</td>\n",
              "      <td>305</td>\n",
              "      <td>306</td>\n",
              "      <td>307</td>\n",
              "      <td>280</td>\n",
              "      <td>231</td>\n",
              "      <td>159</td>\n",
              "      <td>85</td>\n",
              "      <td>51</td>\n",
              "      <td>43</td>\n",
              "      <td>62</td>\n",
              "      <td>63</td>\n",
              "      <td>63</td>\n",
              "      <td>69</td>\n",
              "      <td>89</td>\n",
              "      <td>123</td>\n",
              "      <td>136</td>\n",
              "      <td>127</td>\n",
              "      <td>102</td>\n",
              "      <td>95</td>\n",
              "      <td>105</td>\n",
              "      <td>131</td>\n",
              "      <td>163</td>\n",
              "      <td>168</td>\n",
              "      <td>164</td>\n",
              "      <td>150</td>\n",
              "      <td>146</td>\n",
              "      <td>152</td>\n",
              "      <td>157</td>\n",
              "      <td>156</td>\n",
              "      <td>154</td>\n",
              "      <td>143</td>\n",
              "      <td>129</td>\n",
              "      <td>1</td>\n",
              "    </tr>\n",
              "  </tbody>\n",
              "</table>\n",
              "<p>2 rows × 180 columns</p>\n",
              "</div>"
            ],
            "text/plain": [
              "   Unnamed: 0   X1   X2   X3   X4   X5  ...  X174  X175  X176  X177  X178  y\n",
              "0  X21.V1.791  135  190  229  223  192  ...  -103  -127  -116   -83   -51  4\n",
              "1  X15.V1.924  386  382  356  331  320  ...   157   156   154   143   129  1\n",
              "\n",
              "[2 rows x 180 columns]"
            ]
          },
          "metadata": {
            "tags": []
          },
          "execution_count": 6
        }
      ]
    },
    {
      "cell_type": "code",
      "metadata": {
        "id": "JhEU89fe3M_6",
        "colab_type": "code",
        "outputId": "a43de145-093f-4cce-c293-4148a59ab934",
        "colab": {
          "base_uri": "https://localhost:8080/",
          "height": 218
        }
      },
      "source": [
        "df[\"Unnamed: 0\"].value_counts #Sizin de gördüğünüz gibi bu sütündaki bütün veriler kendine has değerlere sahip\n",
        "                              #Bu da demek oluyorki sınıfların birbirinden ayrıştırılmasında bu sütünün herhangi bir etkisi yok\n",
        "                              #Sütün gereksiz"
      ],
      "execution_count": 0,
      "outputs": [
        {
          "output_type": "execute_result",
          "data": {
            "text/plain": [
              "<bound method IndexOpsMixin.value_counts of 0        X21.V1.791\n",
              "1        X15.V1.924\n",
              "2           X8.V1.1\n",
              "3         X16.V1.60\n",
              "4         X20.V1.54\n",
              "            ...    \n",
              "11495    X22.V1.114\n",
              "11496    X19.V1.354\n",
              "11497      X8.V1.28\n",
              "11498    X10.V1.932\n",
              "11499    X16.V1.210\n",
              "Name: Unnamed: 0, Length: 11500, dtype: object>"
            ]
          },
          "metadata": {
            "tags": []
          },
          "execution_count": 7
        }
      ]
    },
    {
      "cell_type": "code",
      "metadata": {
        "id": "RC5vR76K3pws",
        "colab_type": "code",
        "colab": {}
      },
      "source": [
        "#Bu method (Unnamed: 0) sütünunu veriden atıcak ve hedef değişkenlerimizi binary hale getirecek\n",
        "def prepareData(df):\n",
        "  df[\"y\"]=[1 if df[\"y\"][i]==1 else 0 for i in range(len(df[\"y\"]))]\n",
        "  target=df[\"y\"]\n",
        "  df_copy=df.drop([\"Unnamed: 0\",\"y\"],axis=1)\n",
        "  return df_copy,target\n",
        "\n",
        "df_copy,target=prepareData(df)"
      ],
      "execution_count": 0,
      "outputs": []
    },
    {
      "cell_type": "markdown",
      "metadata": {
        "id": "6e78qIAb4HK1",
        "colab_type": "text"
      },
      "source": [
        "######**Hurst Üssü değeri ve Ayrık dalgacık dönüşümü ile yeni özellik çıkarımı**"
      ]
    },
    {
      "cell_type": "markdown",
      "metadata": {
        "id": "vzrlv0U_4Tgq",
        "colab_type": "text"
      },
      "source": [
        "Projeyi kodlamaya başlamadan önce, biraz literatür taraması yaptım ve incelemelerim sonucu ham zaman serisi verilerini kullanmak yerine,\n",
        "bu verileri dönüşümlere sokup yeni özellikler çıkartmaya karar verdim.Bahsettiğim dönüşümlerin detaylarını aşağıda açıklıyorum.\n",
        "\n",
        "**Hurst Üssü**\n",
        "\n",
        "Hurst üssü, zaman serilerinin uzun süreli belleğinin bir ölçüsü olarak kullanılır.Zaman serilerinin otokorelasyonları ve değer çiftleri arasındaki gecikme arttıkça bu oranın azalması ile ilgilidir [7].Hurst üssü özellikle finans trendlerinin tahmininde kullanılmaktadır ve veride ki fraktallara hassastır zaten temel olarak bu değişkeni kullanmamın ana nedeni de,sınıflar arasında belirli dalgalanma farkları/fraktal analiz farkları olabileceğini düşünmem ve bunun hurst üssü yardımıyla bulunabileceğini fikri üstünde durmamdan kaynaklıdır.\n",
        "\n",
        "Hurst Üssü formülü:\n",
        "\n",
        "![alt text](https://wikimedia.org/api/rest_v1/media/math/render/svg/d32a26032869f8c902eb7a3062309dd88de63b5b)$$$$\n",
        "\n",
        "**Ayrık Dalgacık Dönüşümü:**\n",
        "\n",
        "Ayrık Dalgacık Dönüşümü (DWT), dalgacıkların ayrı ayrı örneklendiği herhangi bir dalgacık dönüşümünün bir türüdür [8]. (Pek de açıklayıcı bir tanım olduğu söylenemez değil mi? Ama merak etmeyin dalgacık dönüşümleri hakkında biraz daha fazla detay vermeye çalışacağım :D).\n",
        "\n",
        "**Not:** Projede literatürde de oldukça yaygın olan db4 tipi DWT kullandım ve ayrıca literatürde hangi türlerin sıklıkla kullanıldığını gösteren aşağıda ki tabloya da bakabilirsiniz.\n",
        "$$$$\n",
        "\n",
        "![alt text](https://drive.google.com/uc?id=1Mgf76Fem5ts2Tntx4GL-oYGVxc-HQBFy)\n",
        "\n",
        "(Bu tablo [13] referansda ki tezden alınmıştır.Daha fazla detay için referansa göz atabilirsiniz)\n",
        "$$$$\n",
        "\n",
        "**Dalgacık dönüşümü :**\n",
        "\n",
        "Eğer Fourier Dönüşümü'nü zaten biliyorsanız, Wavelet dönüşümü daha somut olarak açıklanabilir.Fourier Dönüşümü'nde, dönüşüm herhangi bir zaman bilgisi(zaman alanı) olmadan sinyalde hangi frekansların (frekans alanı) var olduğunu anlayabilir, Dalgacık dönüşümü ise hem zaman alanı hem de frekans alanı hakkında bilgi verebilir.Dalgacık dönüşümü, küçük frekanslarda frekans alanı hakkında daha fazla bilgi verirken, diğer yandan büyük frekans değerlerinde zaman alanı hakkında daha fazla bilgi verir [9].\n",
        "\n",
        "![alt text](https://drive.google.com/uc?id=1dUhbFebAHnD7h_Yq5GvyKGXKinrzPFXo)\n",
        "\n",
        "(Resim, [10]da ki referansdan alınmış ve değiştirilmiştir.)\n",
        "\n",
        "(Dalgacık dönüşümü hakkında daha fazla detay için lütfen [9]da ki linke göz atın.Başlangıç seviyesi için oldukça güzel bir kaynak.)\n",
        "\n",
        "\n",
        "\n"
      ]
    },
    {
      "cell_type": "code",
      "metadata": {
        "id": "Vt4WHQ4F4BHY",
        "colab_type": "code",
        "outputId": "fcb21f1c-2816-45fc-d9c8-dff0f64f58c5",
        "colab": {
          "base_uri": "https://localhost:8080/",
          "height": 168
        }
      },
      "source": [
        "pip install hurst # hurst modulünü indirme"
      ],
      "execution_count": 0,
      "outputs": [
        {
          "output_type": "stream",
          "text": [
            "Collecting hurst\n",
            "  Downloading https://files.pythonhosted.org/packages/02/4f/d3471ce0dca03a21d4c6640da07a6040c9cc800a937233086b6cea6a7dc2/hurst-0.0.5-py3-none-any.whl\n",
            "Requirement already satisfied: pandas>=0.18 in /usr/local/lib/python3.6/dist-packages (from hurst) (1.0.3)\n",
            "Requirement already satisfied: numpy>=1.10 in /usr/local/lib/python3.6/dist-packages (from hurst) (1.18.4)\n",
            "Requirement already satisfied: pytz>=2017.2 in /usr/local/lib/python3.6/dist-packages (from pandas>=0.18->hurst) (2018.9)\n",
            "Requirement already satisfied: python-dateutil>=2.6.1 in /usr/local/lib/python3.6/dist-packages (from pandas>=0.18->hurst) (2.8.1)\n",
            "Requirement already satisfied: six>=1.5 in /usr/local/lib/python3.6/dist-packages (from python-dateutil>=2.6.1->pandas>=0.18->hurst) (1.12.0)\n",
            "Installing collected packages: hurst\n",
            "Successfully installed hurst-0.0.5\n"
          ],
          "name": "stdout"
        }
      ]
    },
    {
      "cell_type": "code",
      "metadata": {
        "id": "WO-5zG-FB61s",
        "colab_type": "code",
        "colab": {}
      },
      "source": [
        "import pywt #dalgacık dönüşümü için pywt kütüphanesini import edin\n",
        "from hurst import compute_Hc"
      ],
      "execution_count": 0,
      "outputs": []
    },
    {
      "cell_type": "code",
      "metadata": {
        "id": "tXkmyaKiCIoq",
        "colab_type": "code",
        "colab": {}
      },
      "source": [
        "#Bu method hurst değerini ve sabitini hesaplamaktadır\n",
        "def getHurst(df_copy):\n",
        "  df_copy[\"hurst_ex\"]=[compute_Hc(df_copy.iloc[i], kind=\"change\", simplified=True)[0] for i in range(len(df_copy))]\n",
        "  df_copy[\"hurst_c\"]=[compute_Hc(df_copy.iloc[i], kind=\"change\", simplified=True)[1] for i in range(len(df_copy))]\n",
        "  return df_copy\n",
        "\n",
        "#Bu methodda sınıflara göre hurst üssü ve sabitinin medyan ve ortalama değerlerine bakıyorum\n",
        "def getStatsForHurst(df_copy):\n",
        "  plt.scatter(df_copy[\"hurst_ex\"],target)\n",
        "  print(\"mean value of hurst exponent for class 1:\",np.mean(df_copy.iloc[target[target==1].index][\"hurst_ex\"]))\n",
        "  print(\"mean value of hurst exponent for class 0:\",np.mean(df_copy.iloc[target[target==0].index][\"hurst_ex\"]))\n",
        "  print(\"mean value of hurst constant for class 1:\",np.mean(df_copy.iloc[target[target==1].index][\"hurst_c\"]))\n",
        "  print(\"mean value of hurst constant for class 0:\",np.mean(df_copy.iloc[target[target==0].index][\"hurst_c\"]))\n",
        "  print(\"median value of hurst exponent for class 1:\",np.median(df_copy.iloc[target[target==1].index][\"hurst_ex\"]))\n",
        "  print(\"median value of hurst exponent for class 0:\",np.median(df_copy.iloc[target[target==0].index][\"hurst_ex\"]))\n",
        "  print(\"median value of hurst constant for class 1:\",np.median(df_copy.iloc[target[target==1].index][\"hurst_c\"]))\n",
        "  print(\"median value of hurst constant for class 0:\",np.median(df_copy.iloc[target[target==0].index][\"hurst_c\"]))"
      ],
      "execution_count": 0,
      "outputs": []
    },
    {
      "cell_type": "code",
      "metadata": {
        "id": "93OKms-ZLi6m",
        "colab_type": "code",
        "colab": {}
      },
      "source": [
        "#Aşağıdaki methodlarla yeni featurelardan oluşan bir veri seti yaratıyorum.\n",
        "#getWaveletFeatures methodunda datasette ki bütün örnekler için dalgacık katsayılarını alıyorum\n",
        "#katsayıları statisticsForWavelet methoduna verip katsayıların çeyrek değerleri,ortalmaları,medyanları,standart sapma değerlerini,varyanslarını,root mean square değerlerini ve birkaç başka değerini hesaplatıyorum.\n",
        "#Son olarak createDfWavelet methodu ile bu yeni sütünlardan yeni bir veriseti oluşturuyorum.\n",
        "def getWaveletFeatures(data,target):\n",
        "    list_features = []\n",
        "    for signal in range(len(data)):\n",
        "        list_coeff = pywt.wavedec(data.iloc[signal], \"db4\")\n",
        "        features = []\n",
        "        features.append(data.iloc[signal][\"hurst_ex\"])\n",
        "        features.append(data.iloc[signal][\"hurst_c\"])\n",
        "        for coeff in list_coeff:\n",
        "            features += statisticsForWavelet(coeff)\n",
        "        list_features.append(features)\n",
        "    return createDfWavelet(list_features,target)\n",
        "#Bu method referans [9]dan alınmıştır\n",
        "def statisticsForWavelet(coefs):\n",
        "    n5 = np.nanpercentile(coefs, 5)\n",
        "    n25 = np.nanpercentile(coefs, 25)\n",
        "    n75 = np.nanpercentile(coefs, 75)\n",
        "    n95 = np.nanpercentile(coefs, 95)\n",
        "    median = np.nanpercentile(coefs, 50)\n",
        "    mean = np.nanmean(coefs)\n",
        "    std = np.nanstd(coefs)\n",
        "    var = np.nanvar(coefs)\n",
        "    rms = np.nanmean(np.sqrt(coefs**2))\n",
        "    return [n5, n25, n75, n95, median, mean, std, var, rms]\n",
        "\n",
        "def createDfWavelet(data,target):\n",
        "  for i in range(len(data)):\n",
        "    data[i].append(target[i])\n",
        "  return pd.DataFrame(data)       "
      ],
      "execution_count": 0,
      "outputs": []
    },
    {
      "cell_type": "code",
      "metadata": {
        "id": "diOO0QHwOn4s",
        "colab_type": "code",
        "outputId": "26485a5b-f28d-4fea-d6bc-eed889d68783",
        "colab": {
          "base_uri": "https://localhost:8080/",
          "height": 399
        }
      },
      "source": [
        "df_copy=getHurst(df_copy) #hurst üssü değerlerini hesaplatıyorum\n",
        "getStatsForHurst(df_copy)"
      ],
      "execution_count": 0,
      "outputs": [
        {
          "output_type": "stream",
          "text": [
            "mean value of hurst exponent for class 1: 0.17426759520249896\n",
            "mean value of hurst exponent for class 0: 0.5044276844723695\n",
            "mean value of hurst constant for class 1: 22.537759589041105\n",
            "mean value of hurst constant for class 0: 9.76579181307516\n",
            "median value of hurst exponent for class 1: 0.16788038442091022\n",
            "median value of hurst exponent for class 0: 0.5082046350724865\n",
            "median value of hurst constant for class 1: 10.294529749768916\n",
            "median value of hurst constant for class 0: 5.251374799982095\n"
          ],
          "name": "stdout"
        },
        {
          "output_type": "display_data",
          "data": {
            "image/png": "[encoded data removed]",
            "text/plain": [
              "<Figure size 432x288 with 1 Axes>"
            ]
          },
          "metadata": {
            "tags": [],
            "needs_background": "light"
          }
        }
      ]
    },
    {
      "cell_type": "code",
      "metadata": {
        "id": "2XSGJ7IqOrLV",
        "colab_type": "code",
        "colab": {}
      },
      "source": [
        "df_copy_fea=getWaveletFeatures(df_copy,target)#yeni data setimiz"
      ],
      "execution_count": 0,
      "outputs": []
    },
    {
      "cell_type": "code",
      "metadata": {
        "id": "yk34vSCaO7lk",
        "colab_type": "code",
        "outputId": "0fd3f8d5-dad1-42e1-a2f8-5e177659b8ff",
        "colab": {
          "base_uri": "https://localhost:8080/",
          "height": 215
        }
      },
      "source": [
        "df_copy_fea.head()"
      ],
      "execution_count": 0,
      "outputs": [
        {
          "output_type": "execute_result",
          "data": {
            "text/html": [
              "<div>\n",
              "<style scoped>\n",
              "    .dataframe tbody tr th:only-of-type {\n",
              "        vertical-align: middle;\n",
              "    }\n",
              "\n",
              "    .dataframe tbody tr th {\n",
              "        vertical-align: top;\n",
              "    }\n",
              "\n",
              "    .dataframe thead th {\n",
              "        text-align: right;\n",
              "    }\n",
              "</style>\n",
              "<table border=\"1\" class=\"dataframe\">\n",
              "  <thead>\n",
              "    <tr style=\"text-align: right;\">\n",
              "      <th></th>\n",
              "      <th>0</th>\n",
              "      <th>1</th>\n",
              "      <th>2</th>\n",
              "      <th>3</th>\n",
              "      <th>4</th>\n",
              "      <th>5</th>\n",
              "      <th>6</th>\n",
              "      <th>7</th>\n",
              "      <th>8</th>\n",
              "      <th>9</th>\n",
              "      <th>10</th>\n",
              "      <th>11</th>\n",
              "      <th>12</th>\n",
              "      <th>13</th>\n",
              "      <th>14</th>\n",
              "      <th>15</th>\n",
              "      <th>16</th>\n",
              "      <th>17</th>\n",
              "      <th>18</th>\n",
              "      <th>19</th>\n",
              "      <th>20</th>\n",
              "      <th>21</th>\n",
              "      <th>22</th>\n",
              "      <th>23</th>\n",
              "      <th>24</th>\n",
              "      <th>25</th>\n",
              "      <th>26</th>\n",
              "      <th>27</th>\n",
              "      <th>28</th>\n",
              "      <th>29</th>\n",
              "      <th>30</th>\n",
              "      <th>31</th>\n",
              "      <th>32</th>\n",
              "      <th>33</th>\n",
              "      <th>34</th>\n",
              "      <th>35</th>\n",
              "      <th>36</th>\n",
              "      <th>37</th>\n",
              "      <th>38</th>\n",
              "      <th>39</th>\n",
              "      <th>40</th>\n",
              "      <th>41</th>\n",
              "      <th>42</th>\n",
              "      <th>43</th>\n",
              "      <th>44</th>\n",
              "      <th>45</th>\n",
              "      <th>46</th>\n",
              "      <th>47</th>\n",
              "    </tr>\n",
              "  </thead>\n",
              "  <tbody>\n",
              "    <tr>\n",
              "      <th>0</th>\n",
              "      <td>0.546585</td>\n",
              "      <td>2.601079</td>\n",
              "      <td>-305.176164</td>\n",
              "      <td>-151.216527</td>\n",
              "      <td>723.449162</td>\n",
              "      <td>776.917001</td>\n",
              "      <td>-3.295061</td>\n",
              "      <td>185.214508</td>\n",
              "      <td>421.056252</td>\n",
              "      <td>1.772884e+05</td>\n",
              "      <td>362.384596</td>\n",
              "      <td>-118.255497</td>\n",
              "      <td>-14.756858</td>\n",
              "      <td>112.742925</td>\n",
              "      <td>181.068760</td>\n",
              "      <td>38.918875</td>\n",
              "      <td>43.017619</td>\n",
              "      <td>96.291006</td>\n",
              "      <td>9271.957908</td>\n",
              "      <td>82.299186</td>\n",
              "      <td>-282.140173</td>\n",
              "      <td>-93.356560</td>\n",
              "      <td>83.190719</td>\n",
              "      <td>241.024738</td>\n",
              "      <td>-19.130124</td>\n",
              "      <td>-15.012851</td>\n",
              "      <td>159.427454</td>\n",
              "      <td>25417.113146</td>\n",
              "      <td>127.616292</td>\n",
              "      <td>-84.288361</td>\n",
              "      <td>-27.085687</td>\n",
              "      <td>25.839238</td>\n",
              "      <td>64.083271</td>\n",
              "      <td>-5.246926</td>\n",
              "      <td>-2.354776</td>\n",
              "      <td>46.331585</td>\n",
              "      <td>2146.615760</td>\n",
              "      <td>36.145883</td>\n",
              "      <td>-14.957938</td>\n",
              "      <td>-5.592195</td>\n",
              "      <td>5.819614</td>\n",
              "      <td>13.353548</td>\n",
              "      <td>0.068490</td>\n",
              "      <td>-0.211866</td>\n",
              "      <td>9.135993</td>\n",
              "      <td>83.466361</td>\n",
              "      <td>7.263468</td>\n",
              "      <td>0</td>\n",
              "    </tr>\n",
              "    <tr>\n",
              "      <th>1</th>\n",
              "      <td>-0.254452</td>\n",
              "      <td>75.697950</td>\n",
              "      <td>-1242.993850</td>\n",
              "      <td>-488.612159</td>\n",
              "      <td>1410.559480</td>\n",
              "      <td>1774.820173</td>\n",
              "      <td>603.491844</td>\n",
              "      <td>509.288143</td>\n",
              "      <td>1217.249973</td>\n",
              "      <td>1.481697e+06</td>\n",
              "      <td>1139.870482</td>\n",
              "      <td>-1513.818103</td>\n",
              "      <td>-506.059703</td>\n",
              "      <td>178.143757</td>\n",
              "      <td>1402.623818</td>\n",
              "      <td>-40.415845</td>\n",
              "      <td>-140.425072</td>\n",
              "      <td>816.324380</td>\n",
              "      <td>666385.493673</td>\n",
              "      <td>567.598282</td>\n",
              "      <td>-723.611943</td>\n",
              "      <td>-180.580005</td>\n",
              "      <td>125.722567</td>\n",
              "      <td>867.058241</td>\n",
              "      <td>-18.439261</td>\n",
              "      <td>-27.032981</td>\n",
              "      <td>483.947890</td>\n",
              "      <td>234205.560224</td>\n",
              "      <td>313.691461</td>\n",
              "      <td>-230.912721</td>\n",
              "      <td>-40.390111</td>\n",
              "      <td>40.967077</td>\n",
              "      <td>203.621093</td>\n",
              "      <td>0.179625</td>\n",
              "      <td>-1.976516</td>\n",
              "      <td>213.647453</td>\n",
              "      <td>45645.234141</td>\n",
              "      <td>105.978403</td>\n",
              "      <td>-24.898853</td>\n",
              "      <td>-6.318527</td>\n",
              "      <td>4.878626</td>\n",
              "      <td>33.563928</td>\n",
              "      <td>-0.514451</td>\n",
              "      <td>-0.682946</td>\n",
              "      <td>30.317390</td>\n",
              "      <td>919.144152</td>\n",
              "      <td>14.445416</td>\n",
              "      <td>1</td>\n",
              "    </tr>\n",
              "    <tr>\n",
              "      <th>2</th>\n",
              "      <td>0.742152</td>\n",
              "      <td>3.615098</td>\n",
              "      <td>-309.103358</td>\n",
              "      <td>-210.090841</td>\n",
              "      <td>-117.128242</td>\n",
              "      <td>-3.579475</td>\n",
              "      <td>-153.466544</td>\n",
              "      <td>-160.911085</td>\n",
              "      <td>93.143353</td>\n",
              "      <td>8.675684e+03</td>\n",
              "      <td>160.911085</td>\n",
              "      <td>-194.163602</td>\n",
              "      <td>-44.434483</td>\n",
              "      <td>2.659560</td>\n",
              "      <td>35.806625</td>\n",
              "      <td>-11.508281</td>\n",
              "      <td>-31.405705</td>\n",
              "      <td>67.695044</td>\n",
              "      <td>4582.618989</td>\n",
              "      <td>44.044606</td>\n",
              "      <td>-110.870327</td>\n",
              "      <td>-48.401351</td>\n",
              "      <td>48.215553</td>\n",
              "      <td>90.924135</td>\n",
              "      <td>5.788707</td>\n",
              "      <td>-0.261057</td>\n",
              "      <td>66.397043</td>\n",
              "      <td>4408.567255</td>\n",
              "      <td>53.872532</td>\n",
              "      <td>-26.976553</td>\n",
              "      <td>-17.167687</td>\n",
              "      <td>16.434903</td>\n",
              "      <td>29.220142</td>\n",
              "      <td>2.497897</td>\n",
              "      <td>0.764631</td>\n",
              "      <td>19.968472</td>\n",
              "      <td>398.739870</td>\n",
              "      <td>17.381640</td>\n",
              "      <td>-7.360370</td>\n",
              "      <td>-3.528846</td>\n",
              "      <td>3.431295</td>\n",
              "      <td>6.996356</td>\n",
              "      <td>-0.295030</td>\n",
              "      <td>-0.251944</td>\n",
              "      <td>4.958808</td>\n",
              "      <td>24.589778</td>\n",
              "      <td>3.869186</td>\n",
              "      <td>0</td>\n",
              "    </tr>\n",
              "    <tr>\n",
              "      <th>3</th>\n",
              "      <td>0.767329</td>\n",
              "      <td>12.232493</td>\n",
              "      <td>-392.667105</td>\n",
              "      <td>-384.158663</td>\n",
              "      <td>-274.167936</td>\n",
              "      <td>-168.574097</td>\n",
              "      <td>-295.871642</td>\n",
              "      <td>-294.446636</td>\n",
              "      <td>96.600146</td>\n",
              "      <td>9.331588e+03</td>\n",
              "      <td>295.594845</td>\n",
              "      <td>-50.378062</td>\n",
              "      <td>-6.343640</td>\n",
              "      <td>22.221957</td>\n",
              "      <td>56.380391</td>\n",
              "      <td>8.802419</td>\n",
              "      <td>8.508557</td>\n",
              "      <td>33.808497</td>\n",
              "      <td>1143.014456</td>\n",
              "      <td>26.964985</td>\n",
              "      <td>-49.878219</td>\n",
              "      <td>-17.150750</td>\n",
              "      <td>19.639245</td>\n",
              "      <td>34.120662</td>\n",
              "      <td>7.996985</td>\n",
              "      <td>2.005385</td>\n",
              "      <td>26.269508</td>\n",
              "      <td>690.087074</td>\n",
              "      <td>21.719040</td>\n",
              "      <td>-13.314688</td>\n",
              "      <td>-5.828000</td>\n",
              "      <td>5.282980</td>\n",
              "      <td>14.428778</td>\n",
              "      <td>-0.699589</td>\n",
              "      <td>-0.378611</td>\n",
              "      <td>11.801291</td>\n",
              "      <td>139.270476</td>\n",
              "      <td>8.033911</td>\n",
              "      <td>-5.068773</td>\n",
              "      <td>-2.264661</td>\n",
              "      <td>2.383344</td>\n",
              "      <td>5.377493</td>\n",
              "      <td>0.336105</td>\n",
              "      <td>0.040430</td>\n",
              "      <td>5.218204</td>\n",
              "      <td>27.229656</td>\n",
              "      <td>3.162152</td>\n",
              "      <td>0</td>\n",
              "    </tr>\n",
              "    <tr>\n",
              "      <th>4</th>\n",
              "      <td>0.647870</td>\n",
              "      <td>2.538971</td>\n",
              "      <td>-276.585954</td>\n",
              "      <td>-255.283369</td>\n",
              "      <td>5.788142</td>\n",
              "      <td>87.801277</td>\n",
              "      <td>-79.855665</td>\n",
              "      <td>-100.024326</td>\n",
              "      <td>137.229131</td>\n",
              "      <td>1.883183e+04</td>\n",
              "      <td>137.196686</td>\n",
              "      <td>-118.472221</td>\n",
              "      <td>-50.295091</td>\n",
              "      <td>15.728461</td>\n",
              "      <td>61.397235</td>\n",
              "      <td>-13.467008</td>\n",
              "      <td>-16.719396</td>\n",
              "      <td>59.952932</td>\n",
              "      <td>3594.354091</td>\n",
              "      <td>49.218659</td>\n",
              "      <td>-91.214554</td>\n",
              "      <td>-51.554051</td>\n",
              "      <td>31.027079</td>\n",
              "      <td>83.607092</td>\n",
              "      <td>2.235106</td>\n",
              "      <td>-5.263506</td>\n",
              "      <td>53.373437</td>\n",
              "      <td>2848.723725</td>\n",
              "      <td>44.339743</td>\n",
              "      <td>-47.796112</td>\n",
              "      <td>-13.439282</td>\n",
              "      <td>21.991572</td>\n",
              "      <td>49.627529</td>\n",
              "      <td>0.224143</td>\n",
              "      <td>1.325679</td>\n",
              "      <td>29.940156</td>\n",
              "      <td>896.412956</td>\n",
              "      <td>22.968023</td>\n",
              "      <td>-9.831802</td>\n",
              "      <td>-3.274258</td>\n",
              "      <td>3.681270</td>\n",
              "      <td>9.592965</td>\n",
              "      <td>-0.133232</td>\n",
              "      <td>0.179974</td>\n",
              "      <td>7.101117</td>\n",
              "      <td>50.425867</td>\n",
              "      <td>4.900663</td>\n",
              "      <td>0</td>\n",
              "    </tr>\n",
              "  </tbody>\n",
              "</table>\n",
              "</div>"
            ],
            "text/plain": [
              "         0          1            2   ...          45         46  47\n",
              "0  0.546585   2.601079  -305.176164  ...   83.466361   7.263468   0\n",
              "1 -0.254452  75.697950 -1242.993850  ...  919.144152  14.445416   1\n",
              "2  0.742152   3.615098  -309.103358  ...   24.589778   3.869186   0\n",
              "3  0.767329  12.232493  -392.667105  ...   27.229656   3.162152   0\n",
              "4  0.647870   2.538971  -276.585954  ...   50.425867   4.900663   0\n",
              "\n",
              "[5 rows x 48 columns]"
            ]
          },
          "metadata": {
            "tags": []
          },
          "execution_count": 18
        }
      ]
    },
    {
      "cell_type": "markdown",
      "metadata": {
        "id": "B-ecr--fPGOT",
        "colab_type": "text"
      },
      "source": [
        "**Veri setini yeniden örnekleme**"
      ]
    },
    {
      "cell_type": "markdown",
      "metadata": {
        "id": "yepSG6ioPNhs",
        "colab_type": "text"
      },
      "source": [
        "Yeniden örnekleme yapmadan önce, 0 sınıfı veri setinin büyük çoğunluğunu kaplıyordu ve veriyi dengesiz hale getiriyordu.Makine öğrenimi/derin öğrenme modelleri için daha dengeli bir veri kümesi elde etmek adına.Veriyi karıştırıp yeniden örnekleyerek veri setini dengelemeye çalıştım."
      ]
    },
    {
      "cell_type": "code",
      "metadata": {
        "id": "6FK5OHUGPBMG",
        "colab_type": "code",
        "colab": {}
      },
      "source": [
        "from sklearn.utils import shuffle\n",
        "def createBalancedDataset(data,random_state):\n",
        "  #Veriyi karıştırıyoruz\n",
        "  X = shuffle(data,random_state=random_state)\n",
        "  #karışmış veriyi azalan şeklinde sıralayıp ilk 6500 örneğin indexlerini alıyoruz\n",
        "  #Böylece 2300 tane olan 1 sınıfının hepsini ve 4200 tane de 0 sınıfını almış oluyoruz\n",
        "  #Verinin bu hali önceki halinden daha dengeli durumda\n",
        "  return X.sort_values(by=47, ascending=False).iloc[:6500].index"
      ],
      "execution_count": 0,
      "outputs": []
    },
    {
      "cell_type": "code",
      "metadata": {
        "id": "pFcKZ_BZQ3L3",
        "colab_type": "code",
        "outputId": "6bcc8408-dda5-4811-a8bd-1f8fd69685fa",
        "colab": {
          "base_uri": "https://localhost:8080/",
          "height": 315
        }
      },
      "source": [
        "v=createBalancedDataset(df_copy_fea,42)\n",
        "plt.hist((df_copy_fea.iloc[v])[47])\n",
        "(df_copy_fea.iloc[v][47]).value_counts() #more balanced dataset"
      ],
      "execution_count": 0,
      "outputs": [
        {
          "output_type": "execute_result",
          "data": {
            "text/plain": [
              "0    4200\n",
              "1    2300\n",
              "Name: 47, dtype: int64"
            ]
          },
          "metadata": {
            "tags": []
          },
          "execution_count": 22
        },
        {
          "output_type": "display_data",
          "data": {
            "image/png": "[encoded data removed]",
            "text/plain": [
              "<Figure size 432x288 with 1 Axes>"
            ]
          },
          "metadata": {
            "tags": [],
            "needs_background": "light"
          }
        }
      ]
    },
    {
      "cell_type": "markdown",
      "metadata": {
        "id": "U8S3omtPRA-G",
        "colab_type": "text"
      },
      "source": [
        "**Veriyi normalize etme**"
      ]
    },
    {
      "cell_type": "markdown",
      "metadata": {
        "id": "ZPFDkzsARgOx",
        "colab_type": "text"
      },
      "source": [
        "Özellik seçiminden önce verileri normalleştirdim çünkü Anova testi için normalleştirme gereklidir.Ayrıca normalleştirme birçok makine öğrenme algoritması için de bir ön koşuldur [11]."
      ]
    },
    {
      "cell_type": "code",
      "metadata": {
        "id": "7HHQE6yAQVVC",
        "colab_type": "code",
        "colab": {}
      },
      "source": [
        "#Min-max scaler ile normalizasyon\n",
        "from sklearn.preprocessing import MinMaxScaler\n",
        "scaler = MinMaxScaler()\n",
        "scaler.fit(df_copy_fea.drop([47],axis=1))\n",
        "n_df_fea=pd.DataFrame(scaler.transform(df_copy_fea.drop([47],axis=1)))"
      ],
      "execution_count": 0,
      "outputs": []
    },
    {
      "cell_type": "markdown",
      "metadata": {
        "id": "syWBf1VkR4oR",
        "colab_type": "text"
      },
      "source": [
        "**Anova ve Random Forest ile özellik seçimi**"
      ]
    },
    {
      "cell_type": "markdown",
      "metadata": {
        "id": "vcrG2IVvSoSs",
        "colab_type": "text"
      },
      "source": [
        "Modellere girdi vermeden önce özellik seçiminin modellerin doğruluk oranlarını iyileştirip iyileştirmediğini kontrol ettim.Bu durumu anlamak için önce tüm özellikleri modele verdim ve sonra sadece modele girdi olarak seçilen özellikleri verdim ve modellerin doğruluk oranlarını ve f-skorlarını karşılaştırdım .\n",
        "\n",
        "Özellik seçimi için, aşağıdaki diyagramdan yardım aldım.Veri kümesinin girdi değerleri sayısal, hedef değişkeni kategorik olduğundan, özellik seçimi için Anova testi tercih ettim.Ayrıca bunları karşılaştırmak için Random-Forest algoritması ile bir özellik seçimi daha yaptım.Özellik seçimleri, çoğu durumda doğrulukların iyileştirilmesinde rol oynasa da, Bu durumda, herhangi bir iyileştirme yapamadı bu yüzden girdi olarak tüm özelliklerle devam etmeye karar verdim.\n",
        "\n",
        "\n",
        "![alt text](https://3qeqpr26caki16dnhd19sv6by6v-wpengine.netdna-ssl.com/wp-content/uploads/2019/11/How-to-Choose-Feature-Selection-Methods-For-Machine-Learning.png)\n",
        "\n",
        "(Resim [12]den alınmıştır)"
      ]
    },
    {
      "cell_type": "markdown",
      "metadata": {
        "id": "GV26eJBiVDCa",
        "colab_type": "text"
      },
      "source": [
        "Gözlem yapmak için SVM modeli kullanıcam.Bu modele sırasıyla bütün sütünları içeren girdiyi, Anova'nın seçtiği sütünları ve Random-Forest'in seçtiği sütünları girdi olarak verip doğruluk değerlerini karşılaştıracağım."
      ]
    },
    {
      "cell_type": "code",
      "metadata": {
        "id": "WjseScCdR1b7",
        "colab_type": "code",
        "colab": {}
      },
      "source": [
        "import numpy as np\n",
        "from sklearn.model_selection import train_test_split\n",
        "X_trainr, X_testr, y_trainr, y_testr = train_test_split(n_df_fea.iloc[v], target.iloc[v], test_size=0.33, random_state=42) #veriyi train ve test olarak ayırıyorum."
      ],
      "execution_count": 0,
      "outputs": []
    },
    {
      "cell_type": "code",
      "metadata": {
        "id": "J2ROvEafVyuC",
        "colab_type": "code",
        "outputId": "caa2e447-a4ee-449f-b65f-063488191e91",
        "colab": {
          "base_uri": "https://localhost:8080/",
          "height": 185
        }
      },
      "source": [
        "from sklearn import svm\n",
        "from sklearn.model_selection import cross_val_predict\n",
        "from sklearn.metrics import classification_report\n",
        "\n",
        "#Neden SVM seçtiğim ve bu parametreleri kullandığımı model bölümünde detaylandıracağım.\n",
        "clf = svm.SVC(kernel=\"linear\")\n",
        "clf.fit(X_trainr, y_trainr)\n",
        "#Doğruluk değerlerinin daha sağlıklı olması adına cross validation kullanacağım\n",
        "y_pred = cross_val_predict(clf,X_testr,y_testr,cv=10)\n",
        "print(\"Bütün özelliklerin dahil olduğu model\\n\",classification_report(y_testr, y_pred))"
      ],
      "execution_count": 0,
      "outputs": [
        {
          "output_type": "stream",
          "text": [
            "Bütün özelliklerin dahil olduğu model\n",
            "               precision    recall  f1-score   support\n",
            "\n",
            "           0       0.96      0.99      0.97      1373\n",
            "           1       0.98      0.93      0.95       772\n",
            "\n",
            "    accuracy                           0.97      2145\n",
            "   macro avg       0.97      0.96      0.96      2145\n",
            "weighted avg       0.97      0.97      0.97      2145\n",
            "\n"
          ],
          "name": "stdout"
        }
      ]
    },
    {
      "cell_type": "markdown",
      "metadata": {
        "id": "f08QAT23WpEX",
        "colab_type": "text"
      },
      "source": [
        "**Anova ile en önemli 20 özelliğin seçimi**"
      ]
    },
    {
      "cell_type": "code",
      "metadata": {
        "id": "VRM4_AjPWxQW",
        "colab_type": "code",
        "colab": {}
      },
      "source": [
        "from sklearn.feature_selection import SelectKBest\n",
        "from sklearn.feature_selection import f_classif\n",
        "#bu method anova testi yapıp en önemli 20 özelliği seçtikten sonra\n",
        "#sadece bu 20 özelliği içeren yeni bir dataset yaratıyor\n",
        "def selectFeature(X_trainr,y_trainr,X_testr):\n",
        "  sel_f = SelectKBest(f_classif, k=20)\n",
        "  X_train_f = sel_f.fit_transform(X_trainr, y_trainr)\n",
        "  mySelectedFeatures=[i for i in range(len(sel_f.get_support())) if sel_f.get_support()[i]==True]\n",
        "  j=0\n",
        "  unseable_columns=[]\n",
        "  #Creating a new dataset with these 20 features\n",
        "  for i in X_trainr.columns:\n",
        "    if(j not in mySelectedFeatures):\n",
        "      unseable_columns.append(i)\n",
        "    j+=1 \n",
        "  X_train_arranged=X_trainr.drop(columns=unseable_columns)\n",
        "  X_test_arranged=X_testr.drop(columns=unseable_columns)\n",
        "  return  X_train_arranged,X_test_arranged\n",
        "\n",
        "X_train_arranged,X_test_arranged=selectFeature(X_trainr,y_trainr,X_testr)  "
      ],
      "execution_count": 0,
      "outputs": []
    },
    {
      "cell_type": "code",
      "metadata": {
        "id": "j58fBt0RWQPF",
        "colab_type": "code",
        "outputId": "ae710b8b-69f7-4c9b-d25f-ce174e5b5a83",
        "colab": {
          "base_uri": "https://localhost:8080/",
          "height": 67
        }
      },
      "source": [
        "X_train_arranged.columns #Anova testinde çıkan en önemli 20 özellik"
      ],
      "execution_count": 0,
      "outputs": [
        {
          "output_type": "execute_result",
          "data": {
            "text/plain": [
              "Int64Index([2, 5, 8, 10, 11, 14, 17, 19, 20, 21, 22, 23, 26, 28, 29, 32, 35,\n",
              "            37, 44, 46],\n",
              "           dtype='int64')"
            ]
          },
          "metadata": {
            "tags": []
          },
          "execution_count": 27
        }
      ]
    },
    {
      "cell_type": "code",
      "metadata": {
        "id": "Y5whP0xqXPVv",
        "colab_type": "code",
        "outputId": "21d188f4-05d0-4ff0-b49d-8b7efd6a58e2",
        "colab": {
          "base_uri": "https://localhost:8080/",
          "height": 185
        }
      },
      "source": [
        "#Doğruluk düştü\n",
        "from sklearn import svm\n",
        "from sklearn.metrics import classification_report\n",
        "clf = svm.SVC(kernel=\"linear\")\n",
        "clf.fit(X_train_arranged, y_trainr)\n",
        "y_pred = cross_val_predict(clf,X_test_arranged,y_testr,cv=10)\n",
        "print(\"Anova'nın seçtiği özelliklerle oluşturulan model\\n\",classification_report(y_testr, y_pred))"
      ],
      "execution_count": 0,
      "outputs": [
        {
          "output_type": "stream",
          "text": [
            "Anova'nın seçtiği özelliklerle oluşturulan model\n",
            "               precision    recall  f1-score   support\n",
            "\n",
            "           0       0.96      0.98      0.97      1373\n",
            "           1       0.97      0.92      0.95       772\n",
            "\n",
            "    accuracy                           0.96      2145\n",
            "   macro avg       0.96      0.95      0.96      2145\n",
            "weighted avg       0.96      0.96      0.96      2145\n",
            "\n"
          ],
          "name": "stdout"
        }
      ]
    },
    {
      "cell_type": "markdown",
      "metadata": {
        "id": "jS-W39sbXfQD",
        "colab_type": "text"
      },
      "source": [
        "**Random-Forest ile en önemli 20 özellik seçimi**"
      ]
    },
    {
      "cell_type": "code",
      "metadata": {
        "id": "mF-NfFvKXdGn",
        "colab_type": "code",
        "outputId": "954775f5-4c53-449c-ead0-1c759877e36d",
        "colab": {
          "base_uri": "https://localhost:8080/",
          "height": 34
        }
      },
      "source": [
        "#Özellikleri seçmeden önce en iyi parametreleri alabilmek için grid search uyguluyorum\n",
        "np.random.seed(42)\n",
        "from sklearn.model_selection import GridSearchCV\n",
        "from sklearn.ensemble import RandomForestClassifier\n",
        "rfc = RandomForestClassifier(n_jobs=-1,max_features= 'sqrt' ,n_estimators=50, oob_score = True) \n",
        "\n",
        "param_grid = { \n",
        "    'max_depth': [2,5],\n",
        "    'min_samples_split':[2,5,10],\n",
        "    'n_estimators': [100,150],\n",
        "    'max_features': ['auto', 'sqrt', 'log2']\n",
        "}\n",
        "\n",
        "CV_rfc = GridSearchCV(estimator=rfc, param_grid=param_grid, cv=5)\n",
        "CV_rfc.fit(X_trainr, y_trainr)\n",
        "print (CV_rfc.best_params_)"
      ],
      "execution_count": 0,
      "outputs": [
        {
          "output_type": "stream",
          "text": [
            "{'max_depth': 5, 'max_features': 'sqrt', 'min_samples_split': 2, 'n_estimators': 150}\n"
          ],
          "name": "stdout"
        }
      ]
    },
    {
      "cell_type": "code",
      "metadata": {
        "id": "h-AmPXrBX-be",
        "colab_type": "code",
        "outputId": "1b232121-837d-4386-f503-2657965712c9",
        "colab": {
          "base_uri": "https://localhost:8080/",
          "height": 185
        }
      },
      "source": [
        "#Özellik seçimi için en iyi parametrelerle modeli kuruyorum\n",
        "from sklearn.ensemble import RandomForestClassifier\n",
        "clf = RandomForestClassifier(random_state=42,max_depth=5,max_features='sqrt',min_samples_split=2,n_estimators=150)\n",
        "clf.fit(X_trainr, y_trainr)\n",
        "#modeli kurduktan sonra özelliklerin importance ratelerinden yeni bir dataframe oluşturuyorum\n",
        "zipped=pd.DataFrame(zip(X_trainr.columns,clf.feature_importances_),columns=[\"column\",\"importance\"]).sort_values(by=\"importance\", ascending=False)\n",
        "y_pred2 = cross_val_predict(clf,X_testr,y_testr,cv=10)\n",
        "print(\"Sınıflandırma raporu\\n\",classification_report(y_testr, y_pred2))"
      ],
      "execution_count": 0,
      "outputs": [
        {
          "output_type": "stream",
          "text": [
            "Sınıflandırma raporu\n",
            "               precision    recall  f1-score   support\n",
            "\n",
            "           0       0.98      0.98      0.98      1373\n",
            "           1       0.96      0.96      0.96       772\n",
            "\n",
            "    accuracy                           0.97      2145\n",
            "   macro avg       0.97      0.97      0.97      2145\n",
            "weighted avg       0.97      0.97      0.97      2145\n",
            "\n"
          ],
          "name": "stdout"
        }
      ]
    },
    {
      "cell_type": "code",
      "metadata": {
        "id": "JTvNM3pbZmER",
        "colab_type": "code",
        "outputId": "81001c95-391f-4176-b392-af0b714c8c4b",
        "colab": {
          "base_uri": "https://localhost:8080/",
          "height": 639
        }
      },
      "source": [
        "zipped.head(20) #Random-forestin seçtiği en önemli 20 özellik"
      ],
      "execution_count": 0,
      "outputs": [
        {
          "output_type": "execute_result",
          "data": {
            "text/html": [
              "<div>\n",
              "<style scoped>\n",
              "    .dataframe tbody tr th:only-of-type {\n",
              "        vertical-align: middle;\n",
              "    }\n",
              "\n",
              "    .dataframe tbody tr th {\n",
              "        vertical-align: top;\n",
              "    }\n",
              "\n",
              "    .dataframe thead th {\n",
              "        text-align: right;\n",
              "    }\n",
              "</style>\n",
              "<table border=\"1\" class=\"dataframe\">\n",
              "  <thead>\n",
              "    <tr style=\"text-align: right;\">\n",
              "      <th></th>\n",
              "      <th>column</th>\n",
              "      <th>importance</th>\n",
              "    </tr>\n",
              "  </thead>\n",
              "  <tbody>\n",
              "    <tr>\n",
              "      <th>18</th>\n",
              "      <td>18</td>\n",
              "      <td>0.122870</td>\n",
              "    </tr>\n",
              "    <tr>\n",
              "      <th>17</th>\n",
              "      <td>17</td>\n",
              "      <td>0.102400</td>\n",
              "    </tr>\n",
              "    <tr>\n",
              "      <th>8</th>\n",
              "      <td>8</td>\n",
              "      <td>0.086825</td>\n",
              "    </tr>\n",
              "    <tr>\n",
              "      <th>9</th>\n",
              "      <td>9</td>\n",
              "      <td>0.083827</td>\n",
              "    </tr>\n",
              "    <tr>\n",
              "      <th>19</th>\n",
              "      <td>19</td>\n",
              "      <td>0.082742</td>\n",
              "    </tr>\n",
              "    <tr>\n",
              "      <th>36</th>\n",
              "      <td>36</td>\n",
              "      <td>0.075209</td>\n",
              "    </tr>\n",
              "    <tr>\n",
              "      <th>35</th>\n",
              "      <td>35</td>\n",
              "      <td>0.065976</td>\n",
              "    </tr>\n",
              "    <tr>\n",
              "      <th>14</th>\n",
              "      <td>14</td>\n",
              "      <td>0.047009</td>\n",
              "    </tr>\n",
              "    <tr>\n",
              "      <th>11</th>\n",
              "      <td>11</td>\n",
              "      <td>0.045067</td>\n",
              "    </tr>\n",
              "    <tr>\n",
              "      <th>26</th>\n",
              "      <td>26</td>\n",
              "      <td>0.036911</td>\n",
              "    </tr>\n",
              "    <tr>\n",
              "      <th>29</th>\n",
              "      <td>29</td>\n",
              "      <td>0.035794</td>\n",
              "    </tr>\n",
              "    <tr>\n",
              "      <th>32</th>\n",
              "      <td>32</td>\n",
              "      <td>0.032185</td>\n",
              "    </tr>\n",
              "    <tr>\n",
              "      <th>20</th>\n",
              "      <td>20</td>\n",
              "      <td>0.024624</td>\n",
              "    </tr>\n",
              "    <tr>\n",
              "      <th>28</th>\n",
              "      <td>28</td>\n",
              "      <td>0.017470</td>\n",
              "    </tr>\n",
              "    <tr>\n",
              "      <th>10</th>\n",
              "      <td>10</td>\n",
              "      <td>0.016753</td>\n",
              "    </tr>\n",
              "    <tr>\n",
              "      <th>27</th>\n",
              "      <td>27</td>\n",
              "      <td>0.015615</td>\n",
              "    </tr>\n",
              "    <tr>\n",
              "      <th>23</th>\n",
              "      <td>23</td>\n",
              "      <td>0.012727</td>\n",
              "    </tr>\n",
              "    <tr>\n",
              "      <th>37</th>\n",
              "      <td>37</td>\n",
              "      <td>0.012705</td>\n",
              "    </tr>\n",
              "    <tr>\n",
              "      <th>2</th>\n",
              "      <td>2</td>\n",
              "      <td>0.011719</td>\n",
              "    </tr>\n",
              "    <tr>\n",
              "      <th>13</th>\n",
              "      <td>13</td>\n",
              "      <td>0.009039</td>\n",
              "    </tr>\n",
              "  </tbody>\n",
              "</table>\n",
              "</div>"
            ],
            "text/plain": [
              "    column  importance\n",
              "18      18    0.122870\n",
              "17      17    0.102400\n",
              "8        8    0.086825\n",
              "9        9    0.083827\n",
              "19      19    0.082742\n",
              "36      36    0.075209\n",
              "35      35    0.065976\n",
              "14      14    0.047009\n",
              "11      11    0.045067\n",
              "26      26    0.036911\n",
              "29      29    0.035794\n",
              "32      32    0.032185\n",
              "20      20    0.024624\n",
              "28      28    0.017470\n",
              "10      10    0.016753\n",
              "27      27    0.015615\n",
              "23      23    0.012727\n",
              "37      37    0.012705\n",
              "2        2    0.011719\n",
              "13      13    0.009039"
            ]
          },
          "metadata": {
            "tags": []
          },
          "execution_count": 33
        }
      ]
    },
    {
      "cell_type": "code",
      "metadata": {
        "id": "sEoPDsAjd_91",
        "colab_type": "code",
        "outputId": "7933484c-a863-4fff-8cb1-108fed5f3d26",
        "colab": {
          "base_uri": "https://localhost:8080/",
          "height": 185
        }
      },
      "source": [
        "#F-score ve accuracy düştü\n",
        "clf = svm.SVC(kernel=\"linear\")\n",
        "clf.fit(X_trainr[zipped.iloc[:20].index], y_trainr)\n",
        "y_pred = cross_val_predict(clf,X_testr[zipped.iloc[:20].index],y_testr,cv=10)\n",
        "print(\"Only random forest's features are inclueded\\n\",classification_report(y_testr, y_pred))"
      ],
      "execution_count": 0,
      "outputs": [
        {
          "output_type": "stream",
          "text": [
            "Only random forest's features are inclueded\n",
            "               precision    recall  f1-score   support\n",
            "\n",
            "           0       0.96      0.98      0.97      1373\n",
            "           1       0.96      0.92      0.94       772\n",
            "\n",
            "    accuracy                           0.96      2145\n",
            "   macro avg       0.96      0.95      0.96      2145\n",
            "weighted avg       0.96      0.96      0.96      2145\n",
            "\n"
          ],
          "name": "stdout"
        }
      ]
    },
    {
      "cell_type": "markdown",
      "metadata": {
        "id": "rhXjj1YjeZAf",
        "colab_type": "text"
      },
      "source": [
        "![alt text](https://drive.google.com/uc?id=1VwWDqamqvC8_W0CHLsWfKYLmhJVmPmKM)\n",
        "\n",
        "Sizin de gördüğünüz gibi özellik seçimi doğruluk oranlarını yükseltmiyor aksine düşürüyor bu yüzden modellerimi özellik seçimi yapmadan kuracağım."
      ]
    },
    {
      "cell_type": "markdown",
      "metadata": {
        "id": "lEXlsu354gbf",
        "colab_type": "text"
      },
      "source": [
        "## Modelleme <a class=\"anchor\" id=\"modeling\"></a>"
      ]
    },
    {
      "cell_type": "markdown",
      "metadata": {
        "id": "sA-M-p8ufGZA",
        "colab_type": "text"
      },
      "source": [
        "Model seçim sürecinde, literatürde en çok kullanılan algoritmaları analiz etmeye çalıştım ve en çok kullanılan algoritmaların ANN'ler / RNN'ler, SVM ve Karar Ağaçları olduğunu gördüm.Kendi modellerim için ise şu 3 modelde karar kıldım SVM (projede binary sınıflandırma problemi çözmeye çalıştığım için [14]),Random Forest (karar ağaçları literatürde oldukça yaygın olarak kullanıldığı ve iyi sonuçlar alındığı için) ve LSTM (RNN modelleri literatürde oldukça yaygın olarak kullanılmış ve iyi sonuçlar alınmış olduğu için ayrıca LSTM benim favori algoritmalarımdan biri :D bu yüzden onu kullanacağım.)"
      ]
    },
    {
      "cell_type": "code",
      "metadata": {
        "id": "jhfeX0ZL4gbf",
        "colab_type": "code",
        "outputId": "657b8225-2a78-48aa-85f8-85120fcfcc30",
        "colab": {
          "base_uri": "https://localhost:8080/",
          "height": 185
        }
      },
      "source": [
        "#SVM, kernel hyperparametresi için birkaç farklı çesit kernel denedim ve en yüksek doğruluk oranını veren linearde karar kıldım.\n",
        "#İlerde Roc curve'ü inceleyebilmek için probabilityi true ya çevirdim\n",
        "clf = svm.SVC(kernel=\"linear\",probability=True)\n",
        "clf.fit(X_trainr, y_trainr)\n",
        "y_pred = cross_val_predict(clf,X_testr,y_testr,cv=10)\n",
        "print(\"All features are included\\n\",classification_report(y_testr, y_pred))"
      ],
      "execution_count": 0,
      "outputs": [
        {
          "output_type": "stream",
          "text": [
            "All features are included\n",
            "               precision    recall  f1-score   support\n",
            "\n",
            "           0       0.96      0.99      0.97      1373\n",
            "           1       0.98      0.93      0.95       772\n",
            "\n",
            "    accuracy                           0.97      2145\n",
            "   macro avg       0.97      0.96      0.96      2145\n",
            "weighted avg       0.97      0.97      0.97      2145\n",
            "\n"
          ],
          "name": "stdout"
        }
      ]
    },
    {
      "cell_type": "code",
      "metadata": {
        "id": "PgpjHRfQh2Em",
        "colab_type": "code",
        "outputId": "309bbb9b-5cf7-4197-b58b-6fd68a0bea9a",
        "colab": {
          "base_uri": "https://localhost:8080/",
          "height": 185
        }
      },
      "source": [
        "#Random forest, hyperparametreleri yukardaki grid searchden edindim\n",
        "clf1 = RandomForestClassifier(random_state=42,max_depth=5,max_features='auto',min_samples_split=5,n_estimators=150)\n",
        "clf1.fit(X_trainr, y_trainr)\n",
        "y_pred2 = cross_val_predict(clf1,X_testr,y_testr,cv=10)\n",
        "print(\"All featuares are included\\n\",classification_report(y_testr, y_pred2))"
      ],
      "execution_count": 0,
      "outputs": [
        {
          "output_type": "stream",
          "text": [
            "All featuares are included\n",
            "               precision    recall  f1-score   support\n",
            "\n",
            "           0       0.98      0.98      0.98      1373\n",
            "           1       0.96      0.96      0.96       772\n",
            "\n",
            "    accuracy                           0.97      2145\n",
            "   macro avg       0.97      0.97      0.97      2145\n",
            "weighted avg       0.97      0.97      0.97      2145\n",
            "\n"
          ],
          "name": "stdout"
        }
      ]
    },
    {
      "cell_type": "code",
      "metadata": {
        "id": "MynQB1fuh_mz",
        "colab_type": "code",
        "outputId": "495b83c3-ec86-4f2d-b62c-6946e3b0abda",
        "colab": {
          "base_uri": "https://localhost:8080/",
          "height": 1000
        }
      },
      "source": [
        "#LSTM\n",
        "from keras.models import Sequential\n",
        "from keras.layers import Dense, Dropout\n",
        "from keras.layers import LSTM\n",
        "# Networkü tasarlarken heuristic bir yaklaşım sergiledim.\n",
        "X_trainrr=np.array(X_trainr).reshape(X_trainr.shape[0],X_trainr.shape[1],1)\n",
        "X_testrr=np.array(X_testr).reshape(X_testr.shape[0],X_testr.shape[1],1)\n",
        "model = Sequential()\n",
        "model.add(LSTM(50, input_shape=(X_trainrr.shape[1], X_trainrr.shape[2])))\n",
        "model.add(Dropout(0.1))\n",
        "model.add(Dense(1, activation='sigmoid'))\n",
        "\n",
        "model.compile(loss='binary_crossentropy',\n",
        "              optimizer='rmsprop',\n",
        "              metrics=['accuracy'])\n",
        "# fit network\n",
        "history = model.fit(X_trainrr, y_trainr, epochs=50, batch_size=72, validation_data=(X_testrr, y_testr), verbose=2, shuffle=False)\n",
        "# plot history\n",
        "plt.plot(history.history['loss'], label='train')\n",
        "plt.plot(history.history['val_loss'], label='test')\n",
        "plt.legend()\n",
        "plt.show()"
      ],
      "execution_count": 0,
      "outputs": [
        {
          "output_type": "stream",
          "text": [
            "Using TensorFlow backend.\n"
          ],
          "name": "stderr"
        },
        {
          "output_type": "stream",
          "text": [
            "Train on 4355 samples, validate on 2145 samples\n",
            "Epoch 1/50\n",
            " - 3s - loss: 0.6462 - accuracy: 0.6512 - val_loss: 0.8925 - val_accuracy: 0.6401\n",
            "Epoch 2/50\n",
            " - 2s - loss: 0.5971 - accuracy: 0.7031 - val_loss: 0.6156 - val_accuracy: 0.6606\n",
            "Epoch 3/50\n",
            " - 2s - loss: 0.5600 - accuracy: 0.7559 - val_loss: 0.5417 - val_accuracy: 0.7198\n",
            "Epoch 4/50\n",
            " - 2s - loss: 0.5414 - accuracy: 0.7449 - val_loss: 0.6531 - val_accuracy: 0.6802\n",
            "Epoch 5/50\n",
            " - 2s - loss: 0.5131 - accuracy: 0.7819 - val_loss: 0.5946 - val_accuracy: 0.6867\n",
            "Epoch 6/50\n",
            " - 2s - loss: 0.4714 - accuracy: 0.8142 - val_loss: 0.5988 - val_accuracy: 0.7063\n",
            "Epoch 7/50\n",
            " - 2s - loss: 0.4754 - accuracy: 0.7876 - val_loss: 0.4784 - val_accuracy: 0.7748\n",
            "Epoch 8/50\n",
            " - 2s - loss: 0.4432 - accuracy: 0.8197 - val_loss: 0.4054 - val_accuracy: 0.8168\n",
            "Epoch 9/50\n",
            " - 2s - loss: 0.4356 - accuracy: 0.8211 - val_loss: 0.4792 - val_accuracy: 0.7925\n",
            "Epoch 10/50\n",
            " - 2s - loss: 0.3939 - accuracy: 0.8524 - val_loss: 0.3657 - val_accuracy: 0.8429\n",
            "Epoch 11/50\n",
            " - 2s - loss: 0.3659 - accuracy: 0.8549 - val_loss: 0.3319 - val_accuracy: 0.8503\n",
            "Epoch 12/50\n",
            " - 2s - loss: 0.3702 - accuracy: 0.8521 - val_loss: 0.4559 - val_accuracy: 0.7953\n",
            "Epoch 13/50\n",
            " - 2s - loss: 0.3066 - accuracy: 0.8801 - val_loss: 0.4572 - val_accuracy: 0.7762\n",
            "Epoch 14/50\n",
            " - 2s - loss: 0.3105 - accuracy: 0.8746 - val_loss: 0.3671 - val_accuracy: 0.8522\n",
            "Epoch 15/50\n",
            " - 2s - loss: 0.3012 - accuracy: 0.8914 - val_loss: 0.5953 - val_accuracy: 0.7725\n",
            "Epoch 16/50\n",
            " - 2s - loss: 0.2982 - accuracy: 0.8884 - val_loss: 0.3415 - val_accuracy: 0.8494\n",
            "Epoch 17/50\n",
            " - 2s - loss: 0.2495 - accuracy: 0.9010 - val_loss: 0.2540 - val_accuracy: 0.8862\n",
            "Epoch 18/50\n",
            " - 2s - loss: 0.2723 - accuracy: 0.8916 - val_loss: 0.5267 - val_accuracy: 0.7995\n",
            "Epoch 19/50\n",
            " - 2s - loss: 0.2644 - accuracy: 0.8974 - val_loss: 0.4063 - val_accuracy: 0.8713\n",
            "Epoch 20/50\n",
            " - 2s - loss: 0.2672 - accuracy: 0.9116 - val_loss: 0.4923 - val_accuracy: 0.8098\n",
            "Epoch 21/50\n",
            " - 2s - loss: 0.2586 - accuracy: 0.9079 - val_loss: 0.4061 - val_accuracy: 0.8760\n",
            "Epoch 22/50\n",
            " - 2s - loss: 0.2496 - accuracy: 0.9095 - val_loss: 0.5266 - val_accuracy: 0.8536\n",
            "Epoch 23/50\n",
            " - 2s - loss: 0.2405 - accuracy: 0.9130 - val_loss: 0.5462 - val_accuracy: 0.7930\n",
            "Epoch 24/50\n",
            " - 2s - loss: 0.2334 - accuracy: 0.9137 - val_loss: 0.3220 - val_accuracy: 0.8881\n",
            "Epoch 25/50\n",
            " - 2s - loss: 0.2323 - accuracy: 0.9125 - val_loss: 0.3768 - val_accuracy: 0.8681\n",
            "Epoch 26/50\n",
            " - 2s - loss: 0.2345 - accuracy: 0.9111 - val_loss: 0.3273 - val_accuracy: 0.8900\n",
            "Epoch 27/50\n",
            " - 2s - loss: 0.2276 - accuracy: 0.9139 - val_loss: 0.4094 - val_accuracy: 0.8541\n",
            "Epoch 28/50\n",
            " - 2s - loss: 0.2176 - accuracy: 0.9185 - val_loss: 0.3742 - val_accuracy: 0.8839\n",
            "Epoch 29/50\n",
            " - 2s - loss: 0.2386 - accuracy: 0.9249 - val_loss: 0.3817 - val_accuracy: 0.8699\n",
            "Epoch 30/50\n",
            " - 2s - loss: 0.2136 - accuracy: 0.9201 - val_loss: 0.2451 - val_accuracy: 0.9063\n",
            "Epoch 31/50\n",
            " - 2s - loss: 0.2023 - accuracy: 0.9249 - val_loss: 0.4114 - val_accuracy: 0.8755\n",
            "Epoch 32/50\n",
            " - 2s - loss: 0.2274 - accuracy: 0.9206 - val_loss: 0.3010 - val_accuracy: 0.8932\n",
            "Epoch 33/50\n",
            " - 2s - loss: 0.2124 - accuracy: 0.9265 - val_loss: 0.2949 - val_accuracy: 0.8988\n",
            "Epoch 34/50\n",
            " - 2s - loss: 0.2037 - accuracy: 0.9316 - val_loss: 0.4094 - val_accuracy: 0.8527\n",
            "Epoch 35/50\n",
            " - 2s - loss: 0.2039 - accuracy: 0.9320 - val_loss: 0.2946 - val_accuracy: 0.8932\n",
            "Epoch 36/50\n",
            " - 2s - loss: 0.2001 - accuracy: 0.9288 - val_loss: 0.3400 - val_accuracy: 0.8844\n",
            "Epoch 37/50\n",
            " - 2s - loss: 0.2009 - accuracy: 0.9265 - val_loss: 0.3168 - val_accuracy: 0.8988\n",
            "Epoch 38/50\n",
            " - 2s - loss: 0.1880 - accuracy: 0.9297 - val_loss: 0.3881 - val_accuracy: 0.8834\n",
            "Epoch 39/50\n",
            " - 2s - loss: 0.1985 - accuracy: 0.9263 - val_loss: 0.3854 - val_accuracy: 0.8960\n",
            "Epoch 40/50\n",
            " - 2s - loss: 0.1928 - accuracy: 0.9323 - val_loss: 0.2855 - val_accuracy: 0.8979\n",
            "Epoch 41/50\n",
            " - 2s - loss: 0.1919 - accuracy: 0.9309 - val_loss: 0.2820 - val_accuracy: 0.9114\n",
            "Epoch 42/50\n",
            " - 2s - loss: 0.1839 - accuracy: 0.9334 - val_loss: 0.3556 - val_accuracy: 0.8918\n",
            "Epoch 43/50\n",
            " - 2s - loss: 0.1901 - accuracy: 0.9323 - val_loss: 0.3878 - val_accuracy: 0.8998\n",
            "Epoch 44/50\n",
            " - 2s - loss: 0.1858 - accuracy: 0.9339 - val_loss: 0.5630 - val_accuracy: 0.8872\n",
            "Epoch 45/50\n",
            " - 2s - loss: 0.1924 - accuracy: 0.9352 - val_loss: 0.4303 - val_accuracy: 0.8932\n",
            "Epoch 46/50\n",
            " - 2s - loss: 0.1854 - accuracy: 0.9320 - val_loss: 0.4602 - val_accuracy: 0.8965\n",
            "Epoch 47/50\n",
            " - 2s - loss: 0.1830 - accuracy: 0.9336 - val_loss: 0.4557 - val_accuracy: 0.9016\n",
            "Epoch 48/50\n",
            " - 2s - loss: 0.1851 - accuracy: 0.9332 - val_loss: 0.4268 - val_accuracy: 0.9054\n",
            "Epoch 49/50\n",
            " - 2s - loss: 0.1799 - accuracy: 0.9357 - val_loss: 0.3715 - val_accuracy: 0.8970\n",
            "Epoch 50/50\n",
            " - 2s - loss: 0.1731 - accuracy: 0.9350 - val_loss: 0.4765 - val_accuracy: 0.9002\n"
          ],
          "name": "stdout"
        },
        {
          "output_type": "display_data",
          "data": {
            "image/png": "[encoded data removed]",
            "text/plain": [
              "<Figure size 432x288 with 1 Axes>"
            ]
          },
          "metadata": {
            "tags": [],
            "needs_background": "light"
          }
        }
      ]
    },
    {
      "cell_type": "markdown",
      "metadata": {
        "id": "dcsSQpRM4gbq",
        "colab_type": "text"
      },
      "source": [
        "## Değerlendirme <a class=\"anchor\" id=\"evaluation\"></a>"
      ]
    },
    {
      "cell_type": "markdown",
      "metadata": {
        "id": "JbhrFXeFii71",
        "colab_type": "text"
      },
      "source": [
        "Modeli değerlendirmek için modellerin f-skorları, ROC eğrilerini ve genel doğruluk oranlarını (Accuracy) kullandım. Aşağıdaki tablodaki model doğruluklarını ve f-skorlarını görebilirsiniz.\n",
        "\n",
        "![alt text](https://drive.google.com/uc?id=1Z53mCM5oPJ-yFUI6T1g647KUPrfCTozf)\n",
        "\n",
        "Gördüğünüz gibi en başarılı algoritma Random Forest ve tüm algoritmalar 0 sınıfını tahmin etmede 1 sınıfını tahmin etmeden daha başarılı."
      ]
    },
    {
      "cell_type": "markdown",
      "metadata": {
        "id": "QFd3DRoWjOCM",
        "colab_type": "text"
      },
      "source": [
        "**ROC Eğrileri**"
      ]
    },
    {
      "cell_type": "code",
      "metadata": {
        "id": "yU0FUwyL4gbw",
        "colab_type": "code",
        "outputId": "6ef2a3bd-a9c6-4b66-b67f-60cd9877079f",
        "colab": {
          "base_uri": "https://localhost:8080/",
          "height": 252
        }
      },
      "source": [
        "pip install scikit-plot"
      ],
      "execution_count": 0,
      "outputs": [
        {
          "output_type": "stream",
          "text": [
            "Collecting scikit-plot\n",
            "  Downloading https://files.pythonhosted.org/packages/7c/47/32520e259340c140a4ad27c1b97050dd3254fdc517b1d59974d47037510e/scikit_plot-0.3.7-py3-none-any.whl\n",
            "Requirement already satisfied: matplotlib>=1.4.0 in /usr/local/lib/python3.6/dist-packages (from scikit-plot) (3.2.1)\n",
            "Requirement already satisfied: joblib>=0.10 in /usr/local/lib/python3.6/dist-packages (from scikit-plot) (0.15.1)\n",
            "Requirement already satisfied: scikit-learn>=0.18 in /usr/local/lib/python3.6/dist-packages (from scikit-plot) (0.22.2.post1)\n",
            "Requirement already satisfied: scipy>=0.9 in /usr/local/lib/python3.6/dist-packages (from scikit-plot) (1.4.1)\n",
            "Requirement already satisfied: kiwisolver>=1.0.1 in /usr/local/lib/python3.6/dist-packages (from matplotlib>=1.4.0->scikit-plot) (1.2.0)\n",
            "Requirement already satisfied: numpy>=1.11 in /usr/local/lib/python3.6/dist-packages (from matplotlib>=1.4.0->scikit-plot) (1.18.4)\n",
            "Requirement already satisfied: cycler>=0.10 in /usr/local/lib/python3.6/dist-packages (from matplotlib>=1.4.0->scikit-plot) (0.10.0)\n",
            "Requirement already satisfied: python-dateutil>=2.1 in /usr/local/lib/python3.6/dist-packages (from matplotlib>=1.4.0->scikit-plot) (2.8.1)\n",
            "Requirement already satisfied: pyparsing!=2.0.4,!=2.1.2,!=2.1.6,>=2.0.1 in /usr/local/lib/python3.6/dist-packages (from matplotlib>=1.4.0->scikit-plot) (2.4.7)\n",
            "Requirement already satisfied: six in /usr/local/lib/python3.6/dist-packages (from cycler>=0.10->matplotlib>=1.4.0->scikit-plot) (1.12.0)\n",
            "Installing collected packages: scikit-plot\n",
            "Successfully installed scikit-plot-0.3.7\n"
          ],
          "name": "stdout"
        }
      ]
    },
    {
      "cell_type": "code",
      "metadata": {
        "id": "O0QB5omm4gbz",
        "colab_type": "code",
        "outputId": "b5551bef-659f-4767-e3ee-29495521fce2",
        "colab": {
          "base_uri": "https://localhost:8080/",
          "height": 349
        }
      },
      "source": [
        "import scikitplot as skplt\n",
        "import matplotlib.pyplot as plt\n",
        "#SVM için Roc eğrisi\n",
        "y_pred_proba=clf.predict_proba(X_testr)\n",
        "skplt.metrics.plot_roc_curve(y_testr,y_pred_proba)\n",
        "plt.show()"
      ],
      "execution_count": 0,
      "outputs": [
        {
          "output_type": "stream",
          "text": [
            "/usr/local/lib/python3.6/dist-packages/sklearn/utils/deprecation.py:87: FutureWarning: Function plot_roc_curve is deprecated; This will be removed in v0.5.0. Please use scikitplot.metrics.plot_roc instead.\n",
            "  warnings.warn(msg, category=FutureWarning)\n"
          ],
          "name": "stderr"
        },
        {
          "output_type": "display_data",
          "data": {
            "image/png": "[encoded data removed]",
            "text/plain": [
              "<Figure size 432x288 with 1 Axes>"
            ]
          },
          "metadata": {
            "tags": [],
            "needs_background": "light"
          }
        }
      ]
    },
    {
      "cell_type": "code",
      "metadata": {
        "id": "sjDmHxQUjg5A",
        "colab_type": "code",
        "outputId": "423a079b-8507-43e2-f5f1-eda3ae9e3783",
        "colab": {
          "base_uri": "https://localhost:8080/",
          "height": 349
        }
      },
      "source": [
        "#Random-Forest için ROC eğrisi\n",
        "y_pred_proba=clf1.predict_proba(X_testr)\n",
        "skplt.metrics.plot_roc_curve(y_testr,y_pred_proba)\n",
        "plt.show()"
      ],
      "execution_count": 0,
      "outputs": [
        {
          "output_type": "stream",
          "text": [
            "/usr/local/lib/python3.6/dist-packages/sklearn/utils/deprecation.py:87: FutureWarning: Function plot_roc_curve is deprecated; This will be removed in v0.5.0. Please use scikitplot.metrics.plot_roc instead.\n",
            "  warnings.warn(msg, category=FutureWarning)\n"
          ],
          "name": "stderr"
        },
        {
          "output_type": "display_data",
          "data": {
            "image/png": "[encoded data removed]",
            "text/plain": [
              "<Figure size 432x288 with 1 Axes>"
            ]
          },
          "metadata": {
            "tags": [],
            "needs_background": "light"
          }
        }
      ]
    },
    {
      "cell_type": "markdown",
      "metadata": {
        "id": "qe9ycWagjsEP",
        "colab_type": "text"
      },
      "source": [
        "Sizin de gördüğünüz gibi bütün modellerin ROC eğrisi altında kalan alanları, f-scoreları ve genel doğruluk oranları 1 ve %100'e çok yakın. Bu da modellerin sınıflandırma yapmada başarılı olduğunu işaret ediyor."
      ]
    },
    {
      "cell_type": "markdown",
      "metadata": {
        "id": "v0EpXh-w4gb3",
        "colab_type": "text"
      },
      "source": [
        "## Referanslar<a class=\"anchor\" id=\"references\"></a>"
      ]
    },
    {
      "cell_type": "markdown",
      "metadata": {
        "id": "3ZWMkJ1Nf9gA",
        "colab_type": "text"
      },
      "source": [
        "[1] S. A. Hosseini, M-R. Akbarzadeh-T,M-B. Naghibi-Sistani, «Qualitative and Quantitative Evaluation of EEG,» MECS, 2013.\n",
        "\n",
        "[2] Ling Guo, Daniel Rivero, Julián Dorado, Juan R. Rabunal, Alejandro Pazos, «Automatic epileptic seizure detection in EEGs based on line length feature and,» Journal of Neuroscience Methods, 2010.\n",
        "\n",
        "[3]Chang BS, Lowenstein DH. Epilepsy. N Engl J Med. 2003;349(13):1257‐1266. doi:10.1056/NEJMra022308\n",
        "\n",
        "[4]Eadie MJ. Shortcomings in the current treatment of epilepsy. Expert Rev Neurother. 2012;12(12):1419‐1427. doi:10.1586/ern.12.129\n",
        "\n",
        "[5]D. D. A. ÖZKARDEŞ. [Online]. Available: https://www.memorial.com.tr/saglik-rehberleri/epilepsi-ile-ilgili-bilmeniz-gereken-10-gercek/.\n",
        "\n",
        "[6]Yuan, Q., Li, F., & Zhong, H. (2015). Early diagnosis, treatment and prognosis of epilepsy with continuous spikes and waves during slow sleep. International journal of clinical and experimental medicine, 8(3), 4052–4058.\n",
        "\n",
        "[7]«Hurst Exponent,» [Online]. Available: https://en.wikipedia.org/wiki/Hurst_exponent.\n",
        "\n",
        "[8]«Discrete Wavelet Transform,» [Online]. Available: https://en.wikipedia.org/wiki/Discrete_wavelet_transform.\n",
        "\n",
        "[9]A. Taşpınar, «A guide for using the Wavelet Transform in Machine Learning,» [Online]. Available: http://ataspinar.com/2018/12/21/a-guide-for-using-the-wavelet-transform-in-machine-learning/.\n",
        "\n",
        "[10][Online]. Available: http://ataspinar.com/wp-content/uploads/2018/08/Comparisonoftransformations.jpg.\n",
        "\n",
        "[11]A. Chavakula. [Online]. Available: https://www.quora.com/Which-machine-algorithms-require-data-scaling-normalization.\n",
        "\n",
        "[12]J. Brownlee, «Machine Learning Mastery,» [Online]. Available: https://3qeqpr26caki16dnhd19sv6by6v-wpengine.netdna-ssl.com/wp-content/uploads/2019/11/How-to-Choose-Feature-Selection-Methods-For-Machine-Learning.png.\n",
        "\n",
        "[13]Faust, O., Acharya, U. R., Adeli, H., & Adeli, A. (2015). Wavelet-based EEG processing for computer-aided seizure detection and epilepsy diagnosis. Seizure, 26, 56-64.\n",
        "\n",
        "[14][Online].Available: https://www.researchgate.net/post/Why_SVM_classifier_is_the_most_powerful_classification_algorithm_specifically_for_binary_classification_task."
      ]
    },
    {
      "cell_type": "markdown",
      "metadata": {
        "id": "w2OPdF1u4gb9",
        "colab_type": "text"
      },
      "source": [
        "\n",
        "**Disclaimer!** <font color='grey'>This notebook was prepared by Nur Altıparmak as a term project for the *BBM469 - Data Intensive Applications Laboratory* class. The notebook is available for educational purposes only. There is no guarantee on the correctness of the content provided as it is a student work.\n",
        "\n",
        "If you think there is any copyright violation, please let us [know](https://forms.gle/BNNRB2kR8ZHVEREq8). \n",
        "</font>"
      ]
    }
  ]
}